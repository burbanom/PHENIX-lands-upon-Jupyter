{
 "cells": [
  {
   "cell_type": "markdown",
   "metadata": {},
   "source": [
    "![PHENIX](logoPHENIX.png)"
   ]
  },
  {
   "cell_type": "markdown",
   "metadata": {},
   "source": [
    "## 5) Python as a wrapper for other software."
   ]
  },
  {
   "cell_type": "markdown",
   "metadata": {},
   "source": [
    "In this part we'll focus on the uses of python as a tool to carry out simulations in materials science, chemistry and physics."
   ]
  },
  {
   "cell_type": "markdown",
   "metadata": {},
   "source": [
    "**N.B.** To follow this tutorial you should install [pycp2k](https://github.com/SINGROUP/pycp2k)."
   ]
  },
  {
   "cell_type": "markdown",
   "metadata": {},
   "source": [
    "## pycp2k - A python interface for cp2k"
   ]
  },
  {
   "cell_type": "code",
   "execution_count": 1,
   "metadata": {},
   "outputs": [],
   "source": [
    "import re\n",
    "from pycp2k import CP2K\n",
    "from ase.lattice.cubic import Diamond\n",
    "\n",
    "#===============================================================================\n",
    "# Create the Si lattice here as an ASE Atoms object. We will use it later on to\n",
    "# automatically create entries in the CP2K input. Here we use ASE specific\n",
    "# function to do the job. One may also load any of the ase supported structure\n",
    "# files by using ase.io.read() or use the ASE Atoms and Atom classes directly\n",
    "# to create the structure.\n",
    "lattice = Diamond(directions=[[1, 0, 0], [0, 1, 0], [0, 0, 1]],\n",
    "                  symbol='Si',\n",
    "                  latticeconstant=5.430697500,\n",
    "                  size=(1, 1, 1))"
   ]
  },
  {
   "cell_type": "code",
   "execution_count": null,
   "metadata": {
    "collapsed": true
   },
   "outputs": [],
   "source": []
  }
 ],
 "metadata": {
  "kernelspec": {
   "display_name": "Python 3",
   "language": "python",
   "name": "python3"
  },
  "language_info": {
   "codemirror_mode": {
    "name": "ipython",
    "version": 3
   },
   "file_extension": ".py",
   "mimetype": "text/x-python",
   "name": "python",
   "nbconvert_exporter": "python",
   "pygments_lexer": "ipython3",
   "version": "3.5.2"
  }
 },
 "nbformat": 4,
 "nbformat_minor": 2
}
