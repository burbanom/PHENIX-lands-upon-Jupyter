{
 "cells": [
  {
   "cell_type": "markdown",
   "metadata": {},
   "source": [
    "![PHENIX](logoPHENIX.png)"
   ]
  },
  {
   "cell_type": "markdown",
   "metadata": {},
   "source": [
    "## 5) Python as a wrapper for other software."
   ]
  },
  {
   "cell_type": "markdown",
   "metadata": {},
   "source": [
    "In this part we'll focus on the uses of python as a tool to carry out simulations in materials science, chemistry and physics."
   ]
  },
  {
   "cell_type": "markdown",
   "metadata": {},
   "source": [
    "**N.B.** To follow this tutorial you should install [pycp2k](https://github.com/SINGROUP/pycp2k)."
   ]
  },
  {
   "cell_type": "markdown",
   "metadata": {},
   "source": [
    "**N.B.** This is a modified version of the examples provided by the creators of pycp2k."
   ]
  },
  {
   "cell_type": "markdown",
   "metadata": {},
   "source": [
    "## pycp2k - A python interface for cp2k"
   ]
  },
  {
   "cell_type": "markdown",
   "metadata": {},
   "source": [
    "Create the Si lattice here as an [ASE](https://wiki.fysik.dtu.dk/ase/) Atoms object. We will use it later on to\n",
    "automatically create entries in the CP2K input. Here we use ASE specific\n",
    "function to do the job. One may also load any of the ase supported structure\n",
    "files by using `ase.io.read()` or use the ASE Atoms and Atom classes directly\n",
    "to create the structure."
   ]
  },
  {
   "cell_type": "code",
   "execution_count": 1,
   "metadata": {},
   "outputs": [],
   "source": [
    "import re\n",
    "from pycp2k import CP2K\n",
    "from ase.lattice.cubic import Diamond\n",
    "\n",
    "lattice = Diamond(directions=[[1, 0, 0], [0, 1, 0], [0, 0, 1]],\n",
    "                  symbol='Si',\n",
    "                  latticeconstant=5.430697500,\n",
    "                  size=(1, 1, 1))"
   ]
  },
  {
   "cell_type": "markdown",
   "metadata": {},
   "source": [
    "Setup directories and mpi parallelization. If you specify a working directory\n",
    "and a project name, the output and input file names and the\n",
    "GLOBAL.Project_name keyword are automatically generated for you. You can\n",
    "alternatively specify each separately. You can setup the cp2k command with\n",
    "calc.cp2k_command, and the mpi command with calc.mpi_command.  MPI can be\n",
    "turned on or off with calc.mpi_on (on by default). The -n flag can be setup\n",
    "with calc.mpi_n_processes. Any special flags can be specified by using\n",
    "calc.cp2k_flags or calc.mpi_flags. By default cp2k is run in the output\n",
    "directory, but you can change the working directory with"
   ]
  },
  {
   "cell_type": "code",
   "execution_count": 2,
   "metadata": {
    "collapsed": true
   },
   "outputs": [],
   "source": [
    "# calc.working_directory.\n",
    "calc = CP2K()\n",
    "calc.working_directory = \"./\"\n",
    "calc.project_name = \"si_bulk\"\n",
    "calc.mpi_n_processes = 1"
   ]
  },
  {
   "cell_type": "code",
   "execution_count": 3,
   "metadata": {
    "collapsed": true
   },
   "outputs": [],
   "source": [
    "#===============================================================================\n",
    "# Create shortcuts for the most used subtrees of the input. You don't have to\n",
    "# specify these but they will make your life easier.\n",
    "CP2K_INPUT = calc.CP2K_INPUT  # This is the root of the input tree\n",
    "GLOBAL = CP2K_INPUT.GLOBAL\n",
    "# Repeatable sections are added with X_add() function. Optionally you can\n",
    "# provide the Section_parameter as an argument to this function.\n",
    "FORCE_EVAL = CP2K_INPUT.FORCE_EVAL_add()\n",
    "SUBSYS = FORCE_EVAL.SUBSYS\n",
    "DFT = FORCE_EVAL.DFT\n",
    "SCF = DFT.SCF"
   ]
  },
  {
   "cell_type": "markdown",
   "metadata": {},
   "source": [
    "Fill input tree. Section names are in upper case, keywords are capitalized.\n",
    "Most IDEs will be able to automatically suggest the entries as you begin\n",
    "typing them. Relevant parts of the documentation have been copied to\n",
    "parsedclasses.py and some IDEs provide quick access to them (e.g. in spyder\n",
    "you can search documentation for keyword with the command \"go to definition\"\n",
    "\n",
    "The keywords can entered as any python type that converts to string (int,\n",
    "float, etc.). Additionally you can provide non-repeatable keywords as lists.\n",
    "In that case the each list element is converted to string, separated with\n",
    "white space and printed into input file. Repeatable keywords can also be\n",
    "defined as lists, but in this case each list item corresponds to a new\n",
    "repeated item. For an example of these features see examples/example_qmmm.py."
   ]
  },
  {
   "cell_type": "code",
   "execution_count": 4,
   "metadata": {
    "collapsed": true
   },
   "outputs": [],
   "source": [
    "GLOBAL.Run_type = \"ENERGY_FORCE\"\n",
    "GLOBAL.Print_level = \"MEDIUM\""
   ]
  },
  {
   "cell_type": "markdown",
   "metadata": {},
   "source": [
    "These utility functions will create entries to the input tree from the ASE\n",
    "Atoms object created earlier. As arguments these two functions take the\n",
    "subsys where the entries should be created and the Atoms object from which\n",
    "they are exctracted."
   ]
  },
  {
   "cell_type": "code",
   "execution_count": null,
   "metadata": {
    "collapsed": true
   },
   "outputs": [],
   "source": [
    "calc.create_cell(SUBSYS, lattice)\n",
    "calc.create_coord(SUBSYS, lattice)\n",
    "\n",
    "FORCE_EVAL.Method = \"Quickstep\"\n",
    "FORCE_EVAL.PRINT.FORCES.Section_parameters = \"ON\"\n",
    "FORCE_EVAL.PRINT.FORCES.Filename = \"forces\"\n",
    "DFT.Basis_set_file_name = \"BASIS_SET\"\n",
    "DFT.Potential_file_name = \"GTH_POTENTIALS\"\n",
    "DFT.QS.Eps_default = 1.0E-10\n",
    "DFT.MGRID.Ngrids = 4\n",
    "DFT.MGRID.Cutoff = 300\n",
    "DFT.MGRID.Rel_cutoff = 60\n",
    "DFT.XC.XC_FUNCTIONAL.Section_parameters = \"PADE\"\n",
    "SCF.Scf_guess = \"ATOMIC\"\n",
    "SCF.Eps_scf = 1.0E-7\n",
    "SCF.Max_scf = 300\n",
    "SCF.DIAGONALIZATION.Section_parameters = \"ON\"\n",
    "SCF.DIAGONALIZATION.Algorithm = \"STANDARD\"\n",
    "SCF.MIXING.Section_parameters = True\n",
    "SCF.MIXING.Method = \"BROYDEN_MIXING\"\n",
    "SCF.MIXING.Alpha = 0.4\n",
    "SCF.MIXING.Nbroyden = 8\n",
    "FORCE_EVAL.PRINT.FORCES.Section_parameters = \"ON\"\n",
    "\n",
    "KIND = SUBSYS.KIND_add(\"Si\")  # Section_parameters can be provided as argument.\n",
    "KIND.Basis_set = \"DZVP-GTH-PADE\"\n",
    "KIND.Potential = \"GTH-PADE-q4\""
   ]
  },
  {
   "cell_type": "code",
   "execution_count": null,
   "metadata": {},
   "outputs": [
    {
     "name": "stdout",
     "output_type": "stream",
     "text": [
      "|============================ PYCP2K RUN STARTED ==============================|\n",
      "  >> CP2K version check...\n",
      "\n",
      "        |========================= WARNING ===========================|\n",
      "        |  The CP2K version does not match the version for which       |\n",
      "        |  PYCP2K was configured. This will affect the availability    |\n",
      "        |  of keywords and sections in the input tree!                 |\n",
      "        |--------------------------------------------------------------|\n",
      "\n",
      "  >> Creating CP2K input file...\n",
      "  >> Performing syntax check on input file...\n",
      "  >> Running CP2K:\n",
      "     -CP2K version: b'3.0'\n",
      "     -CP2K revision: b'svn:16458'\n",
      "     -CP2K command: cp2k-ubuntu.popt\n",
      "     -MPI command: mpirun\n",
      "     -Processes: 1\n"
     ]
    }
   ],
   "source": [
    "#===============================================================================\n",
    "# After you have created your simulation you can choose how to run it.\n",
    "# Typically there are two options:\n",
    "\n",
    "# 1. Only write the input file. CP2K is then run manually or with some other\n",
    "# script.\n",
    "calc.write_input_file()\n",
    "\n",
    "# 2. Write the input file and run CP2K as a subprocess in python.\n",
    "calc.run()\n",
    "\n",
    "#===============================================================================\n",
    "# You can analyse the output with whatever tool you want. E.g. the final energy\n",
    "# can simply be found with a regular expression:\n",
    "with open(calc.output_path, \"r\") as fin:\n",
    "    regex = re.compile(\" ENERGY\\| Total FORCE_EVAL \\( QS \\) energy \\(a\\.u\\.\\):\\s+(.+)\\n\")\n",
    "    for line in fin:\n",
    "        match = regex.match(line)\n",
    "        if match:\n",
    "            print(\"Final energy: {}\".format(match.groups()[0]))"
   ]
  },
  {
   "cell_type": "markdown",
   "metadata": {},
   "source": [
    "We can also set up a script to perform multiple simulations. In the example below we search for the best energy cut-off."
   ]
  },
  {
   "cell_type": "code",
   "execution_count": null,
   "metadata": {},
   "outputs": [],
   "source": [
    "#===============================================================================\n",
    "# Search for a good CUTOFF\n",
    "GLOBAL.Run_type = \"ENERGY\"\n",
    "GLOBAL.Print_level = \"LOW\"\n",
    "energies = []\n",
    "for cutoff in range(40, 90, 20):\n",
    "    DFT.MGRID.Cutoff = cutoff\n",
    "    calc.output_path = calc.working_directory + \"/\" + calc.project_name + str(cutoff) + \".out\"\n",
    "    calc.run()\n",
    "    with open(calc.output_path, \"r\") as fin:\n",
    "        regex = re.compile(\" ENERGY\\| Total FORCE_EVAL \\( QS \\) energy \\(a\\.u\\.\\):\\s+(.+)\\n\")\n",
    "        for line in fin:\n",
    "            match = regex.match(line)\n",
    "            if match:\n",
    "                energies.append(match.groups()[0])\n",
    "\n",
    "print(energies)"
   ]
  },
  {
   "cell_type": "code",
   "execution_count": null,
   "metadata": {
    "collapsed": true
   },
   "outputs": [],
   "source": []
  }
 ],
 "metadata": {
  "kernelspec": {
   "display_name": "Python 3",
   "language": "python",
   "name": "python3"
  },
  "language_info": {
   "codemirror_mode": {
    "name": "ipython",
    "version": 3
   },
   "file_extension": ".py",
   "mimetype": "text/x-python",
   "name": "python",
   "nbconvert_exporter": "python",
   "pygments_lexer": "ipython3",
   "version": "3.5.2"
  }
 },
 "nbformat": 4,
 "nbformat_minor": 2
}
