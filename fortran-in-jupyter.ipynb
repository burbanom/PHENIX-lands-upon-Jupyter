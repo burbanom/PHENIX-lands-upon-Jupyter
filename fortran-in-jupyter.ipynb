{
 "cells": [
  {
   "cell_type": "markdown",
   "metadata": {},
   "source": [
    "# Running fortran in jupyter!"
   ]
  },
  {
   "cell_type": "markdown",
   "metadata": {},
   "source": [
    "If you want to run fortran programs inside jupyter you will need the [fortran-magic](https://pypi.python.org/pypi/fortran-magic)."
   ]
  },
  {
   "cell_type": "code",
   "execution_count": 1,
   "metadata": {
    "collapsed": true
   },
   "outputs": [],
   "source": [
    "import numpy as np"
   ]
  },
  {
   "cell_type": "code",
   "execution_count": 2,
   "metadata": {},
   "outputs": [
    {
     "name": "stderr",
     "output_type": "stream",
     "text": [
      "/usr/local/lib/python3.5/dist-packages/fortranmagic.py:147: UserWarning: get_ipython_cache_dir has moved to the IPython.paths module since IPython 4.0.\n",
      "  self._lib_dir = os.path.join(get_ipython_cache_dir(), 'fortran')\n"
     ]
    },
    {
     "data": {
      "application/javascript": [
       "$.getScript(\"https://raw.github.com/marijnh/CodeMirror/master/mode/fortran/fortran.js\", function () {\n",
       "IPython.config.cell_magic_highlight['magic_fortran'] = {'reg':[/^%%fortran/]};});\n"
      ]
     },
     "metadata": {},
     "output_type": "display_data"
    }
   ],
   "source": [
    "%load_ext fortranmagic"
   ]
  },
  {
   "cell_type": "markdown",
   "metadata": {},
   "source": [
    "Simple comparison between a matrix solver from lapack called from a fortran program and the solver from numpy"
   ]
  },
  {
   "cell_type": "code",
   "execution_count": 7,
   "metadata": {},
   "outputs": [
    {
     "name": "stdout",
     "output_type": "stream",
     "text": [
      "Running...\n",
      "   /usr/bin/python3 -m numpy.f2py --link-lapack -m _fortran_magic_e84e9fc0213d21cbb2fb641d68b67079 -c /local/home/mburbano/.cache/ipython/fortran/_fortran_magic_e84e9fc0213d21cbb2fb641d68b67079.f90\n",
      "\n",
      "Ok. The following fortran objects are ready to use: solve\n"
     ]
    }
   ],
   "source": [
    "%%fortran --link lapack -vv\n",
    "\n",
    "subroutine solve(A, b, x, n)\n",
    "    ! solve the matrix equation A*x=b using LAPACK\n",
    "    implicit none\n",
    "\n",
    "    real*8, dimension(n,n), intent(in) :: A\n",
    "    real*8, dimension(n), intent(in) :: b\n",
    "    real*8, dimension(n), intent(out) :: x\n",
    "\n",
    "    integer :: i, j, pivot(n), ok\n",
    "\n",
    "    integer, intent(in) :: n\n",
    "    x = b\n",
    "\n",
    "    ! find the solution using the LAPACK routine SGESV\n",
    "    call DGESV(n, 1, A, n, pivot, x, n, ok)\n",
    "    \n",
    "end subroutine"
   ]
  },
  {
   "cell_type": "code",
   "execution_count": 4,
   "metadata": {
    "collapsed": true
   },
   "outputs": [],
   "source": [
    "A = np.array([[1, 2.5], [-3, 4]])\n",
    "b = np.array([1, 2.5])"
   ]
  },
  {
   "cell_type": "code",
   "execution_count": 5,
   "metadata": {},
   "outputs": [
    {
     "name": "stdout",
     "output_type": "stream",
     "text": [
      "8.99 µs ± 63.5 ns per loop (mean ± std. dev. of 7 runs, 100000 loops each)\n"
     ]
    }
   ],
   "source": [
    "%timeit np.linalg.solve(A, b)"
   ]
  },
  {
   "cell_type": "code",
   "execution_count": 6,
   "metadata": {},
   "outputs": [
    {
     "name": "stdout",
     "output_type": "stream",
     "text": [
      "1.13 µs ± 131 ns per loop (mean ± std. dev. of 7 runs, 1000000 loops each)\n"
     ]
    }
   ],
   "source": [
    "%timeit solve(A,b)"
   ]
  }
 ],
 "metadata": {
  "kernelspec": {
   "display_name": "Python 3",
   "language": "python",
   "name": "python3"
  },
  "language_info": {
   "codemirror_mode": {
    "name": "ipython",
    "version": 3
   },
   "file_extension": ".py",
   "mimetype": "text/x-python",
   "name": "python",
   "nbconvert_exporter": "python",
   "pygments_lexer": "ipython3",
   "version": "3.5.2"
  }
 },
 "nbformat": 4,
 "nbformat_minor": 2
}
