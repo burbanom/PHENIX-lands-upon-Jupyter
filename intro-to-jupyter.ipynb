{
 "cells": [
  {
   "cell_type": "markdown",
   "metadata": {},
   "source": [
    "** PHENIX Visits Jupyter **  \n",
    "This notebook contains several snipets of the capabilities of the jupyter notebook. \n",
    "\n",
    "1) What is the jupyter notebook?  \n",
    "2) How can it be useful in my research?  \n",
    "3) Basic navigation and usage of the notebook.  \n",
    "4) Scientific python: numpy, scipy, pandas and sympy.  \n",
    "5) Python as a wrapper for other software.  \n",
    "6) Additional packages for simulations: ase, pymatgen.  "
   ]
  },
  {
   "cell_type": "markdown",
   "metadata": {},
   "source": [
    "   ** 1) What is the jupyter notebook? **  \n",
    "The Jupyter Notebook is an open-source web application that allows you to create and share documents that contain live code, equations, visualizations and explanatory text. Uses include: data cleaning and transformation, numerical simulation, statistical modeling, machine learning and much more."
   ]
  },
  {
   "cell_type": "code",
   "execution_count": 1,
   "metadata": {
    "collapsed": true
   },
   "outputs": [],
   "source": [
    "import numpy as np"
   ]
  },
  {
   "cell_type": "markdown",
   "metadata": {},
   "source": []
  }
 ],
 "metadata": {
  "kernelspec": {
   "display_name": "Python 3",
   "language": "python",
   "name": "python3"
  },
  "language_info": {
   "codemirror_mode": {
    "name": "ipython",
    "version": 3
   },
   "file_extension": ".py",
   "mimetype": "text/x-python",
   "name": "python",
   "nbconvert_exporter": "python",
   "pygments_lexer": "ipython3",
   "version": "3.5.2"
  }
 },
 "nbformat": 4,
 "nbformat_minor": 2
}
