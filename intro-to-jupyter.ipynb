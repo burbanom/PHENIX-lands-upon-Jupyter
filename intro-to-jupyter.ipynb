{
 "cells": [
  {
   "cell_type": "markdown",
   "metadata": {},
   "source": [
    "![PHENIX](logoPHENIX.png)"
   ]
  },
  {
   "cell_type": "markdown",
   "metadata": {},
   "source": [
    "# PHENIX lands upon Jupyter\n",
    "This series of notebooks contain several snipets of the capabilities of the jupyter notebook. Below is a general overview of what we'll be looking at:\n",
    "\n",
    "1) What is the jupyter notebook?  \n",
    "2) How can it be useful in my research?  \n",
    "3) Basic navigation and usage of the notebook.  \n",
    "4) Scientific python:\n",
    "    - numpy\n",
    "    - scipy\n",
    "    - matplotlib\n",
    "    - sympy  \n",
    "5) Python as a wrapper for other software.  \n",
    "6) Additional packages for simulations: ase, pymatgen (another day).  \n",
    "7) Profiling with jupyter and the cython language.  \n",
    "8) Bits and bobs."
   ]
  },
  {
   "cell_type": "markdown",
   "metadata": {},
   "source": [
    "Items 1) to 3) will be covered in this particular notebook. Subsequent sections will be dealt with separately."
   ]
  },
  {
   "cell_type": "markdown",
   "metadata": {},
   "source": [
    "## 1) What is the jupyter notebook?\n",
    "From the [Jupyter website](http://jupyter.org):\n",
    "> The Jupyter Notebook is an *open-source* web application that allows you to create and share documents that contain live code, equations, visualizations and explanatory text. Uses include: data cleaning and transformation, numerical simulation, statistical modeling, machine learning and much more."
   ]
  },
  {
   "cell_type": "markdown",
   "metadata": {},
   "source": [
    "Think of it as a python interpreter that is accessible from a web browser, but with additional functionality. "
   ]
  },
  {
   "cell_type": "markdown",
   "metadata": {},
   "source": [
    "**N.B.** An excellent source for learning more about the capabilities of the jupyter notebook and how it fits in the work-flow of a scientist can be found [here](https://github.com/jrjohansson/scientific-python-lectures)."
   ]
  },
  {
   "cell_type": "markdown",
   "metadata": {},
   "source": [
    "## 2) How can it be useful in my research?\n",
    "Given the notebook's versatility, it can provide the user with the tools necessary to go from ideas to results."
   ]
  },
  {
   "cell_type": "markdown",
   "metadata": {},
   "source": [
    "### Sample uses\n",
    "- You can first start using the notebook as a means to interactively generate plots/figures for your research (like with xmgrace/gnuplot and dare I say exel).\n",
    "- You can use it to prototype and profile your code.\n",
    "- You can use to interact with the python interfaces of many popular simulation codes like cp2k or lammps, thus it is possible to launch calculations from the notebook and then analyse the results. \n",
    "- You can even embed youtube videos in your notebook to learn more about the notebook!"
   ]
  },
  {
   "cell_type": "code",
   "execution_count": 1,
   "metadata": {},
   "outputs": [
    {
     "data": {
      "image/jpeg": "[encoded data removed]",
      "text/html": [
       "\n",
       "        <iframe\n",
       "            width=\"400\"\n",
       "            height=\"300\"\n",
       "            src=\"https://www.youtube.com/embed/Rc4JQWowG5I\"\n",
       "            frameborder=\"0\"\n",
       "            allowfullscreen\n",
       "        ></iframe>\n",
       "        "
      ],
      "text/plain": [
       "<IPython.lib.display.YouTubeVideo at 0x7fd164432ba8>"
      ]
     },
     "metadata": {},
     "output_type": "display_data"
    }
   ],
   "source": [
    "from IPython.display import display, YouTubeVideo\n",
    "vid = YouTubeVideo(\"Rc4JQWowG5I\")\n",
    "display(vid)"
   ]
  },
  {
   "cell_type": "markdown",
   "metadata": {},
   "source": [
    "## 3) Basic navigation and usage of the notebook."
   ]
  },
  {
   "cell_type": "markdown",
   "metadata": {},
   "source": [
    "### Navigation"
   ]
  },
  {
   "cell_type": "markdown",
   "metadata": {},
   "source": [
    "- ** Code vs Markdown cells**: Code cells allow you to write/execute source code in a variety of computer languages (for numerical computation, for example), while markdown cells use a type language which allows the user to annotate their documents, e.g. make font bold, *italic*, set up lists, etc. This cell is written in **Markdown**.\n",
    "- There is extensive use of keyboard shortcuts, which might confuse/discourage some users at first.\n",
    "    - A cell that is highlighted in green is an active state. To activate such state you should press Enter on your keyboard.\n",
    "    - To deactivate a cell press Esc. **N.B.** When a cell is inactive you can press `m` to change the cell to markdown mode or `y` to change back to code mode.\n",
    "    - Executing a cell (code or markdown) requires the user to press Shift + Enter. \n",
    "    - You can move up and down using the arrow keys, you can cut/copy and paste cells. All these short cuts and many more are available to you through the help tab on the jupyter notebook. "
   ]
  },
  {
   "cell_type": "markdown",
   "metadata": {},
   "source": [
    "- You can use tab completion in code cells. "
   ]
  },
  {
   "cell_type": "code",
   "execution_count": 2,
   "metadata": {
    "collapsed": true
   },
   "outputs": [],
   "source": [
    "from numpy import absolute"
   ]
  },
  {
   "cell_type": "markdown",
   "metadata": {},
   "source": [
    "### Access OS commands directly from a code cell\n",
    "- You can execute system commans from a code cell by preceeding them with `!` "
   ]
  },
  {
   "cell_type": "code",
   "execution_count": 3,
   "metadata": {},
   "outputs": [
    {
     "name": "stdout",
     "output_type": "stream",
     "text": [
      "BASIS_SET\t\t   README-Widgets\r\n",
      "cython.ipynb\t\t   scientific-python-matplotlib.ipynb\r\n",
      "filename.png\t\t   scientific-python-numpy.ipynb\r\n",
      "GTH_POTENTIALS\t\t   scientific-python-scipy.ipynb\r\n",
      "intro-to-jupyter.ipynb\t   scientific-python-sympy.ipynb\r\n",
      "LICENSE.md\t\t   stockholm_td_adj.dat\r\n",
      "logoPHENIX.png\t\t   test.svg\r\n",
      "python-as-a-wrapper.ipynb  Widgets-READ-THE-README-Widgets.ipynb\r\n",
      "README.md\r\n"
     ]
    }
   ],
   "source": [
    "!ls"
   ]
  },
  {
   "cell_type": "code",
   "execution_count": 4,
   "metadata": {},
   "outputs": [
    {
     "name": "stdout",
     "output_type": "stream",
     "text": [
      "/usr/local/bin:/home/burbanom/Dropbox/Work/bin:/home/burbanom/bin:/home/burbanom/.local/bin:/home/burbanom/Dropbox/Work/bin:/usr/local/sbin:/usr/local/bin:/usr/sbin:/usr/bin:/sbin:/bin:/usr/games:/usr/local/games:/snap/bin\r\n"
     ]
    }
   ],
   "source": [
    "!echo $PATH"
   ]
  },
  {
   "cell_type": "code",
   "execution_count": 5,
   "metadata": {},
   "outputs": [
    {
     "name": "stdout",
     "output_type": "stream",
     "text": [
      "/usr/bin/python\r\n"
     ]
    }
   ],
   "source": [
    "!which python"
   ]
  },
  {
   "cell_type": "markdown",
   "metadata": {},
   "source": [
    "### Getting help\n",
    "- Whenever you come across an object, be it a function, module, etc, that you are not familiar with, you can simply invoke the `help` command in order to get some information on its usage. "
   ]
  },
  {
   "cell_type": "code",
   "execution_count": 6,
   "metadata": {},
   "outputs": [
    {
     "name": "stdout",
     "output_type": "stream",
     "text": [
      "Help on built-in function sqrt in module math:\n",
      "\n",
      "sqrt(...)\n",
      "    sqrt(x)\n",
      "    \n",
      "    Return the square root of x.\n",
      "\n"
     ]
    }
   ],
   "source": [
    "from math import sqrt\n",
    "help(sqrt)"
   ]
  },
  {
   "cell_type": "markdown",
   "metadata": {},
   "source": [
    "Alternatively, you can use the `?` after the object to inquire about its use"
   ]
  },
  {
   "cell_type": "code",
   "execution_count": 7,
   "metadata": {
    "collapsed": true
   },
   "outputs": [],
   "source": [
    "sqrt?"
   ]
  },
  {
   "cell_type": "markdown",
   "metadata": {},
   "source": [
    "This wraps up the introduction to the notebook itself. Next, we'll be looking at scientific python. "
   ]
  }
 ],
 "metadata": {
  "kernelspec": {
   "display_name": "Python 3",
   "language": "python",
   "name": "python3"
  },
  "language_info": {
   "codemirror_mode": {
    "name": "ipython",
    "version": 3
   },
   "file_extension": ".py",
   "mimetype": "text/x-python",
   "name": "python",
   "nbconvert_exporter": "python",
   "pygments_lexer": "ipython3",
   "version": "3.5.2"
  }
 },
 "nbformat": 4,
 "nbformat_minor": 2
}
