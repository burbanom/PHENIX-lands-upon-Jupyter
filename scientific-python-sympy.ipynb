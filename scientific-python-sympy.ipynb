{
 "cells": [
  {
   "cell_type": "markdown",
   "metadata": {},
   "source": [
    "![PHENIX](logoPHENIX.png)"
   ]
  },
  {
   "cell_type": "markdown",
   "metadata": {},
   "source": [
    "## 4) Scientific python: sympy"
   ]
  },
  {
   "cell_type": "markdown",
   "metadata": {},
   "source": [
    "In this part we'll focus on the uses of python as a tool for scientists."
   ]
  },
  {
   "cell_type": "markdown",
   "metadata": {},
   "source": [
    "**N.B.** The following content borrows heavily from lecture 5 on scientific python. The original source, in its more detailed form can be found [here](https://github.com/jrjohansson/scientific-python-lectures)."
   ]
  },
  {
   "cell_type": "markdown",
   "metadata": {},
   "source": [
    "## Sympy - Symbolic algebra in Python"
   ]
  },
  {
   "cell_type": "code",
   "execution_count": 1,
   "metadata": {},
   "outputs": [],
   "source": [
    "%matplotlib notebook\n",
    "import matplotlib.pyplot as plt"
   ]
  },
  {
   "cell_type": "markdown",
   "metadata": {},
   "source": [
    "## Introduction"
   ]
  },
  {
   "cell_type": "markdown",
   "metadata": {},
   "source": [
    "There are two notable Computer Algebra Systems (CAS) for Python:\n",
    "\n",
    "* [SymPy](http://sympy.org/en/index.html) - A python module that can be used in any Python program, or in an IPython session, that provides powerful CAS features. \n",
    "* [Sage](http://www.sagemath.org/) - Sage is a full-featured and very powerful CAS enviroment that aims to provide an open source system that competes with Mathematica and Maple. Sage is not a regular Python module, but rather a CAS environment that uses Python as its programming language.\n",
    "\n",
    "Sage is in some aspects more powerful than SymPy, but both offer very comprehensive CAS functionality. The advantage of SymPy is that it is a regular Python module and integrates well with the IPython notebook. \n",
    "\n",
    "In this lecture we will therefore look at how to use SymPy with IPython notebooks. If you are interested in an open source CAS environment I also recommend to read more about Sage.\n",
    "\n",
    "To get started using SymPy in a Python program or notebook, import the module `sympy`:"
   ]
  },
  {
   "cell_type": "code",
   "execution_count": 2,
   "metadata": {
    "collapsed": true
   },
   "outputs": [],
   "source": [
    "from sympy import *"
   ]
  },
  {
   "cell_type": "markdown",
   "metadata": {},
   "source": [
    "To get nice-looking $\\LaTeX$ formatted output run:"
   ]
  },
  {
   "cell_type": "code",
   "execution_count": 3,
   "metadata": {},
   "outputs": [
    {
     "name": "stdout",
     "output_type": "stream",
     "text": [
      "IPython console for SymPy 1.0 (Python 3.5.2-64-bit) (ground types: python)\n",
      "\n",
      "These commands were executed:\n",
      ">>> from __future__ import division\n",
      ">>> from sympy import *\n",
      ">>> x, y, z, t = symbols('x y z t')\n",
      ">>> k, m, n = symbols('k m n', integer=True)\n",
      ">>> f, g, h = symbols('f g h', cls=Function)\n",
      ">>> init_printing()\n",
      "\n",
      "Documentation can be found at http://docs.sympy.org/1.0/\n"
     ]
    }
   ],
   "source": [
    "init_session()\n",
    "\n",
    "# or with older versions of sympy/ipython, load the IPython extension\n",
    "#%load_ext sympy.interactive.ipythonprinting\n",
    "# or\n",
    "#%load_ext sympyprinting"
   ]
  },
  {
   "cell_type": "markdown",
   "metadata": {},
   "source": [
    "## Symbolic variables"
   ]
  },
  {
   "cell_type": "markdown",
   "metadata": {},
   "source": [
    "In SymPy we need to create symbols for the variables we want to work with. We can create a new symbol using the `Symbol` class:"
   ]
  },
  {
   "cell_type": "code",
   "execution_count": 4,
   "metadata": {
    "collapsed": true
   },
   "outputs": [],
   "source": [
    "x = Symbol('x')"
   ]
  },
  {
   "cell_type": "code",
   "execution_count": 5,
   "metadata": {},
   "outputs": [
    {
     "data": {
      "image/png": "[encoded data removed]",
      "text/latex": [
       "$$\\left(x + \\pi\\right)^{2}$$"
      ],
      "text/plain": [
       "       2\n",
       "(x + π) "
      ]
     },
     "execution_count": 5,
     "metadata": {},
     "output_type": "execute_result"
    }
   ],
   "source": [
    "(pi + x)**2"
   ]
  },
  {
   "cell_type": "code",
   "execution_count": 6,
   "metadata": {
    "collapsed": true
   },
   "outputs": [],
   "source": [
    "# alternative way of defining symbols\n",
    "a, b, c = symbols(\"a, b, c\")"
   ]
  },
  {
   "cell_type": "code",
   "execution_count": 7,
   "metadata": {},
   "outputs": [
    {
     "data": {
      "text/plain": [
       "sympy.core.symbol.Symbol"
      ]
     },
     "execution_count": 7,
     "metadata": {},
     "output_type": "execute_result"
    }
   ],
   "source": [
    "type(a)"
   ]
  },
  {
   "cell_type": "markdown",
   "metadata": {},
   "source": [
    "We can add assumptions to symbols when we create them:"
   ]
  },
  {
   "cell_type": "code",
   "execution_count": 8,
   "metadata": {
    "collapsed": true
   },
   "outputs": [],
   "source": [
    "x = Symbol('x', real=True)"
   ]
  },
  {
   "cell_type": "code",
   "execution_count": 9,
   "metadata": {},
   "outputs": [
    {
     "data": {
      "text/plain": [
       "False"
      ]
     },
     "execution_count": 9,
     "metadata": {},
     "output_type": "execute_result"
    }
   ],
   "source": [
    "x.is_imaginary"
   ]
  },
  {
   "cell_type": "code",
   "execution_count": 10,
   "metadata": {
    "collapsed": true
   },
   "outputs": [],
   "source": [
    "x = Symbol('x', positive=True)"
   ]
  },
  {
   "cell_type": "code",
   "execution_count": 11,
   "metadata": {},
   "outputs": [
    {
     "data": {
      "image/png": "[encoded data removed]",
      "text/latex": [
       "$$\\mathrm{True}$$"
      ],
      "text/plain": [
       "True"
      ]
     },
     "execution_count": 11,
     "metadata": {},
     "output_type": "execute_result"
    }
   ],
   "source": [
    "x > 0"
   ]
  },
  {
   "cell_type": "markdown",
   "metadata": {},
   "source": [
    "### Complex numbers"
   ]
  },
  {
   "cell_type": "markdown",
   "metadata": {},
   "source": [
    "The imaginary unit is denoted `I` in Sympy. "
   ]
  },
  {
   "cell_type": "code",
   "execution_count": 12,
   "metadata": {},
   "outputs": [
    {
     "data": {
      "image/png": "[encoded data removed]",
      "text/latex": [
       "$$1 + i$$"
      ],
      "text/plain": [
       "1 + ⅈ"
      ]
     },
     "execution_count": 12,
     "metadata": {},
     "output_type": "execute_result"
    }
   ],
   "source": [
    "1+1*I"
   ]
  },
  {
   "cell_type": "code",
   "execution_count": 13,
   "metadata": {},
   "outputs": [
    {
     "data": {
      "image/png": "[encoded data removed]",
      "text/latex": [
       "$$-1$$"
      ],
      "text/plain": [
       "-1"
      ]
     },
     "execution_count": 13,
     "metadata": {},
     "output_type": "execute_result"
    }
   ],
   "source": [
    "I**2"
   ]
  },
  {
   "cell_type": "code",
   "execution_count": 14,
   "metadata": {},
   "outputs": [
    {
     "data": {
      "image/png": "[encoded data removed]",
      "text/latex": [
       "$$\\left(i x + 1\\right)^{2}$$"
      ],
      "text/plain": [
       "         2\n",
       "(ⅈ⋅x + 1) "
      ]
     },
     "execution_count": 14,
     "metadata": {},
     "output_type": "execute_result"
    }
   ],
   "source": [
    "(x * I + 1)**2"
   ]
  },
  {
   "cell_type": "markdown",
   "metadata": {},
   "source": [
    "### Rational numbers"
   ]
  },
  {
   "cell_type": "markdown",
   "metadata": {},
   "source": [
    "There are three different numerical types in SymPy: `Real`, `Rational`, `Integer`: "
   ]
  },
  {
   "cell_type": "code",
   "execution_count": 15,
   "metadata": {
    "collapsed": true
   },
   "outputs": [],
   "source": [
    "r1 = Rational(4,5)\n",
    "r2 = Rational(5,4)"
   ]
  },
  {
   "cell_type": "code",
   "execution_count": 16,
   "metadata": {},
   "outputs": [
    {
     "data": {
      "image/png": "[encoded data removed]",
      "text/latex": [
       "$$\\frac{4}{5}$$"
      ],
      "text/plain": [
       "4/5"
      ]
     },
     "execution_count": 16,
     "metadata": {},
     "output_type": "execute_result"
    }
   ],
   "source": [
    "r1"
   ]
  },
  {
   "cell_type": "code",
   "execution_count": 17,
   "metadata": {},
   "outputs": [
    {
     "data": {
      "image/png": "[encoded data removed]",
      "text/latex": [
       "$$\\frac{41}{20}$$"
      ],
      "text/plain": [
       "41\n",
       "──\n",
       "20"
      ]
     },
     "execution_count": 17,
     "metadata": {},
     "output_type": "execute_result"
    }
   ],
   "source": [
    "r1+r2"
   ]
  },
  {
   "cell_type": "code",
   "execution_count": 18,
   "metadata": {},
   "outputs": [
    {
     "data": {
      "image/png": "[encoded data removed]",
      "text/latex": [
       "$$\\frac{16}{25}$$"
      ],
      "text/plain": [
       "16\n",
       "──\n",
       "25"
      ]
     },
     "execution_count": 18,
     "metadata": {},
     "output_type": "execute_result"
    }
   ],
   "source": [
    "r1/r2"
   ]
  },
  {
   "cell_type": "markdown",
   "metadata": {},
   "source": [
    "## Numerical evaluation"
   ]
  },
  {
   "cell_type": "markdown",
   "metadata": {},
   "source": [
    "SymPy uses a library for artitrary precision as numerical backend, and has predefined SymPy expressions for a number of mathematical constants, such as: `pi`, `e`, `oo` for infinity.\n",
    "\n",
    "To evaluate an expression numerically we can use the `evalf` function (or `N`). It takes an argument `n` which specifies the number of significant digits."
   ]
  },
  {
   "cell_type": "code",
   "execution_count": 19,
   "metadata": {},
   "outputs": [
    {
     "data": {
      "image/png": "[encoded data removed]",
      "text/latex": [
       "$$3.1415926535897932384626433832795028841971693993751$$"
      ],
      "text/plain": [
       "3.1415926535897932384626433832795028841971693993751"
      ]
     },
     "execution_count": 19,
     "metadata": {},
     "output_type": "execute_result"
    }
   ],
   "source": [
    "pi.evalf(n=50)"
   ]
  },
  {
   "cell_type": "code",
   "execution_count": 20,
   "metadata": {
    "collapsed": true
   },
   "outputs": [],
   "source": [
    "y = (x + pi)**2"
   ]
  },
  {
   "cell_type": "code",
   "execution_count": 21,
   "metadata": {},
   "outputs": [
    {
     "data": {
      "image/png": "[encoded data removed]",
      "text/latex": [
       "$$\\left(x + 3.1416\\right)^{2}$$"
      ],
      "text/plain": [
       "            2\n",
       "(x + 3.1416) "
      ]
     },
     "execution_count": 21,
     "metadata": {},
     "output_type": "execute_result"
    }
   ],
   "source": [
    "N(y, 5) # same as evalf"
   ]
  },
  {
   "cell_type": "markdown",
   "metadata": {},
   "source": [
    "When we numerically evaluate algebraic expressions we often want to substitute a symbol with a numerical value. In SymPy we do that using the `subs` function:"
   ]
  },
  {
   "cell_type": "code",
   "execution_count": 22,
   "metadata": {},
   "outputs": [
    {
     "data": {
      "image/png": "[encoded data removed]",
      "text/latex": [
       "$$\\left(1.5 + \\pi\\right)^{2}$$"
      ],
      "text/plain": [
       "         2\n",
       "(1.5 + π) "
      ]
     },
     "execution_count": 22,
     "metadata": {},
     "output_type": "execute_result"
    }
   ],
   "source": [
    "y.subs(x, 1.5)"
   ]
  },
  {
   "cell_type": "code",
   "execution_count": 23,
   "metadata": {},
   "outputs": [
    {
     "data": {
      "image/png": "[encoded data removed]",
      "text/latex": [
       "$$21.5443823618587$$"
      ],
      "text/plain": [
       "21.5443823618587"
      ]
     },
     "execution_count": 23,
     "metadata": {},
     "output_type": "execute_result"
    }
   ],
   "source": [
    "N(y.subs(x, 1.5))"
   ]
  },
  {
   "cell_type": "markdown",
   "metadata": {},
   "source": [
    "The `subs` function can of course also be used to substitute Symbols and expressions:"
   ]
  },
  {
   "cell_type": "code",
   "execution_count": 24,
   "metadata": {},
   "outputs": [
    {
     "data": {
      "image/png": "[encoded data removed]",
      "text/latex": [
       "$$\\left(a + 2 \\pi\\right)^{2}$$"
      ],
      "text/plain": [
       "         2\n",
       "(a + 2⋅π) "
      ]
     },
     "execution_count": 24,
     "metadata": {},
     "output_type": "execute_result"
    }
   ],
   "source": [
    "y.subs(x, a+pi)"
   ]
  },
  {
   "cell_type": "markdown",
   "metadata": {},
   "source": [
    "We can also combine numerical evolution of expressions with NumPy arrays:"
   ]
  },
  {
   "cell_type": "code",
   "execution_count": 25,
   "metadata": {
    "collapsed": true
   },
   "outputs": [],
   "source": [
    "import numpy as np"
   ]
  },
  {
   "cell_type": "code",
   "execution_count": 26,
   "metadata": {
    "collapsed": true
   },
   "outputs": [],
   "source": [
    "x_vec = np.arange(0, 10, 0.1)"
   ]
  },
  {
   "cell_type": "code",
   "execution_count": 27,
   "metadata": {
    "collapsed": true
   },
   "outputs": [],
   "source": [
    "y_vec = np.array([N(((x + pi)**2).subs(x, xx)) for xx in x_vec])"
   ]
  },
  {
   "cell_type": "code",
   "execution_count": 28,
   "metadata": {},
   "outputs": [
    {
     "data": {
      "application/javascript": [
       "/* Put everything inside the global mpl namespace */\n",
       "window.mpl = {};\n",
       "\n",
       "\n",
       "mpl.get_websocket_type = function() {\n",
       "    if (typeof(WebSocket) !== 'undefined') {\n",
       "        return WebSocket;\n",
       "    } else if (typeof(MozWebSocket) !== 'undefined') {\n",
       "        return MozWebSocket;\n",
       "    } else {\n",
       "        alert('Your browser does not have WebSocket support.' +\n",
       "              'Please try Chrome, Safari or Firefox ≥ 6. ' +\n",
       "              'Firefox 4 and 5 are also supported but you ' +\n",
       "              'have to enable WebSockets in about:config.');\n",
       "    };\n",
       "}\n",
       "\n",
       "mpl.figure = function(figure_id, websocket, ondownload, parent_element) {\n",
       "    this.id = figure_id;\n",
       "\n",
       "    this.ws = websocket;\n",
       "\n",
       "    this.supports_binary = (this.ws.binaryType != undefined);\n",
       "\n",
       "    if (!this.supports_binary) {\n",
       "        var warnings = document.getElementById(\"mpl-warnings\");\n",
       "        if (warnings) {\n",
       "            warnings.style.display = 'block';\n",
       "            warnings.textContent = (\n",
       "                \"This browser does not support binary websocket messages. \" +\n",
       "                    \"Performance may be slow.\");\n",
       "        }\n",
       "    }\n",
       "\n",
       "    this.imageObj = new Image();\n",
       "\n",
       "    this.context = undefined;\n",
       "    this.message = undefined;\n",
       "    this.canvas = undefined;\n",
       "    this.rubberband_canvas = undefined;\n",
       "    this.rubberband_context = undefined;\n",
       "    this.format_dropdown = undefined;\n",
       "\n",
       "    this.image_mode = 'full';\n",
       "\n",
       "    this.root = $('<div/>');\n",
       "    this._root_extra_style(this.root)\n",
       "    this.root.attr('style', 'display: inline-block');\n",
       "\n",
       "    $(parent_element).append(this.root);\n",
       "\n",
       "    this._init_header(this);\n",
       "    this._init_canvas(this);\n",
       "    this._init_toolbar(this);\n",
       "\n",
       "    var fig = this;\n",
       "\n",
       "    this.waiting = false;\n",
       "\n",
       "    this.ws.onopen =  function () {\n",
       "            fig.send_message(\"supports_binary\", {value: fig.supports_binary});\n",
       "            fig.send_message(\"send_image_mode\", {});\n",
       "            if (mpl.ratio != 1) {\n",
       "                fig.send_message(\"set_dpi_ratio\", {'dpi_ratio': mpl.ratio});\n",
       "            }\n",
       "            fig.send_message(\"refresh\", {});\n",
       "        }\n",
       "\n",
       "    this.imageObj.onload = function() {\n",
       "            if (fig.image_mode == 'full') {\n",
       "                // Full images could contain transparency (where diff images\n",
       "                // almost always do), so we need to clear the canvas so that\n",
       "                // there is no ghosting.\n",
       "                fig.context.clearRect(0, 0, fig.canvas.width, fig.canvas.height);\n",
       "            }\n",
       "            fig.context.drawImage(fig.imageObj, 0, 0);\n",
       "        };\n",
       "\n",
       "    this.imageObj.onunload = function() {\n",
       "        this.ws.close();\n",
       "    }\n",
       "\n",
       "    this.ws.onmessage = this._make_on_message_function(this);\n",
       "\n",
       "    this.ondownload = ondownload;\n",
       "}\n",
       "\n",
       "mpl.figure.prototype._init_header = function() {\n",
       "    var titlebar = $(\n",
       "        '<div class=\"ui-dialog-titlebar ui-widget-header ui-corner-all ' +\n",
       "        'ui-helper-clearfix\"/>');\n",
       "    var titletext = $(\n",
       "        '<div class=\"ui-dialog-title\" style=\"width: 100%; ' +\n",
       "        'text-align: center; padding: 3px;\"/>');\n",
       "    titlebar.append(titletext)\n",
       "    this.root.append(titlebar);\n",
       "    this.header = titletext[0];\n",
       "}\n",
       "\n",
       "\n",
       "\n",
       "mpl.figure.prototype._canvas_extra_style = function(canvas_div) {\n",
       "\n",
       "}\n",
       "\n",
       "\n",
       "mpl.figure.prototype._root_extra_style = function(canvas_div) {\n",
       "\n",
       "}\n",
       "\n",
       "mpl.figure.prototype._init_canvas = function() {\n",
       "    var fig = this;\n",
       "\n",
       "    var canvas_div = $('<div/>');\n",
       "\n",
       "    canvas_div.attr('style', 'position: relative; clear: both; outline: 0');\n",
       "\n",
       "    function canvas_keyboard_event(event) {\n",
       "        return fig.key_event(event, event['data']);\n",
       "    }\n",
       "\n",
       "    canvas_div.keydown('key_press', canvas_keyboard_event);\n",
       "    canvas_div.keyup('key_release', canvas_keyboard_event);\n",
       "    this.canvas_div = canvas_div\n",
       "    this._canvas_extra_style(canvas_div)\n",
       "    this.root.append(canvas_div);\n",
       "\n",
       "    var canvas = $('<canvas/>');\n",
       "    canvas.addClass('mpl-canvas');\n",
       "    canvas.attr('style', \"left: 0; top: 0; z-index: 0; outline: 0\")\n",
       "\n",
       "    this.canvas = canvas[0];\n",
       "    this.context = canvas[0].getContext(\"2d\");\n",
       "\n",
       "    var backingStore = this.context.backingStorePixelRatio ||\n",
       "\tthis.context.webkitBackingStorePixelRatio ||\n",
       "\tthis.context.mozBackingStorePixelRatio ||\n",
       "\tthis.context.msBackingStorePixelRatio ||\n",
       "\tthis.context.oBackingStorePixelRatio ||\n",
       "\tthis.context.backingStorePixelRatio || 1;\n",
       "\n",
       "    mpl.ratio = (window.devicePixelRatio || 1) / backingStore;\n",
       "\n",
       "    var rubberband = $('<canvas/>');\n",
       "    rubberband.attr('style', \"position: absolute; left: 0; top: 0; z-index: 1;\")\n",
       "\n",
       "    var pass_mouse_events = true;\n",
       "\n",
       "    canvas_div.resizable({\n",
       "        start: function(event, ui) {\n",
       "            pass_mouse_events = false;\n",
       "        },\n",
       "        resize: function(event, ui) {\n",
       "            fig.request_resize(ui.size.width, ui.size.height);\n",
       "        },\n",
       "        stop: function(event, ui) {\n",
       "            pass_mouse_events = true;\n",
       "            fig.request_resize(ui.size.width, ui.size.height);\n",
       "        },\n",
       "    });\n",
       "\n",
       "    function mouse_event_fn(event) {\n",
       "        if (pass_mouse_events)\n",
       "            return fig.mouse_event(event, event['data']);\n",
       "    }\n",
       "\n",
       "    rubberband.mousedown('button_press', mouse_event_fn);\n",
       "    rubberband.mouseup('button_release', mouse_event_fn);\n",
       "    // Throttle sequential mouse events to 1 every 20ms.\n",
       "    rubberband.mousemove('motion_notify', mouse_event_fn);\n",
       "\n",
       "    rubberband.mouseenter('figure_enter', mouse_event_fn);\n",
       "    rubberband.mouseleave('figure_leave', mouse_event_fn);\n",
       "\n",
       "    canvas_div.on(\"wheel\", function (event) {\n",
       "        event = event.originalEvent;\n",
       "        event['data'] = 'scroll'\n",
       "        if (event.deltaY < 0) {\n",
       "            event.step = 1;\n",
       "        } else {\n",
       "            event.step = -1;\n",
       "        }\n",
       "        mouse_event_fn(event);\n",
       "    });\n",
       "\n",
       "    canvas_div.append(canvas);\n",
       "    canvas_div.append(rubberband);\n",
       "\n",
       "    this.rubberband = rubberband;\n",
       "    this.rubberband_canvas = rubberband[0];\n",
       "    this.rubberband_context = rubberband[0].getContext(\"2d\");\n",
       "    this.rubberband_context.strokeStyle = \"#000000\";\n",
       "\n",
       "    this._resize_canvas = function(width, height) {\n",
       "        // Keep the size of the canvas, canvas container, and rubber band\n",
       "        // canvas in synch.\n",
       "        canvas_div.css('width', width)\n",
       "        canvas_div.css('height', height)\n",
       "\n",
       "        canvas.attr('width', width * mpl.ratio);\n",
       "        canvas.attr('height', height * mpl.ratio);\n",
       "        canvas.attr('style', 'width: ' + width + 'px; height: ' + height + 'px;');\n",
       "\n",
       "        rubberband.attr('width', width);\n",
       "        rubberband.attr('height', height);\n",
       "    }\n",
       "\n",
       "    // Set the figure to an initial 600x600px, this will subsequently be updated\n",
       "    // upon first draw.\n",
       "    this._resize_canvas(600, 600);\n",
       "\n",
       "    // Disable right mouse context menu.\n",
       "    $(this.rubberband_canvas).bind(\"contextmenu\",function(e){\n",
       "        return false;\n",
       "    });\n",
       "\n",
       "    function set_focus () {\n",
       "        canvas.focus();\n",
       "        canvas_div.focus();\n",
       "    }\n",
       "\n",
       "    window.setTimeout(set_focus, 100);\n",
       "}\n",
       "\n",
       "mpl.figure.prototype._init_toolbar = function() {\n",
       "    var fig = this;\n",
       "\n",
       "    var nav_element = $('<div/>')\n",
       "    nav_element.attr('style', 'width: 100%');\n",
       "    this.root.append(nav_element);\n",
       "\n",
       "    // Define a callback function for later on.\n",
       "    function toolbar_event(event) {\n",
       "        return fig.toolbar_button_onclick(event['data']);\n",
       "    }\n",
       "    function toolbar_mouse_event(event) {\n",
       "        return fig.toolbar_button_onmouseover(event['data']);\n",
       "    }\n",
       "\n",
       "    for(var toolbar_ind in mpl.toolbar_items) {\n",
       "        var name = mpl.toolbar_items[toolbar_ind][0];\n",
       "        var tooltip = mpl.toolbar_items[toolbar_ind][1];\n",
       "        var image = mpl.toolbar_items[toolbar_ind][2];\n",
       "        var method_name = mpl.toolbar_items[toolbar_ind][3];\n",
       "\n",
       "        if (!name) {\n",
       "            // put a spacer in here.\n",
       "            continue;\n",
       "        }\n",
       "        var button = $('<button/>');\n",
       "        button.addClass('ui-button ui-widget ui-state-default ui-corner-all ' +\n",
       "                        'ui-button-icon-only');\n",
       "        button.attr('role', 'button');\n",
       "        button.attr('aria-disabled', 'false');\n",
       "        button.click(method_name, toolbar_event);\n",
       "        button.mouseover(tooltip, toolbar_mouse_event);\n",
       "\n",
       "        var icon_img = $('<span/>');\n",
       "        icon_img.addClass('ui-button-icon-primary ui-icon');\n",
       "        icon_img.addClass(image);\n",
       "        icon_img.addClass('ui-corner-all');\n",
       "\n",
       "        var tooltip_span = $('<span/>');\n",
       "        tooltip_span.addClass('ui-button-text');\n",
       "        tooltip_span.html(tooltip);\n",
       "\n",
       "        button.append(icon_img);\n",
       "        button.append(tooltip_span);\n",
       "\n",
       "        nav_element.append(button);\n",
       "    }\n",
       "\n",
       "    var fmt_picker_span = $('<span/>');\n",
       "\n",
       "    var fmt_picker = $('<select/>');\n",
       "    fmt_picker.addClass('mpl-toolbar-option ui-widget ui-widget-content');\n",
       "    fmt_picker_span.append(fmt_picker);\n",
       "    nav_element.append(fmt_picker_span);\n",
       "    this.format_dropdown = fmt_picker[0];\n",
       "\n",
       "    for (var ind in mpl.extensions) {\n",
       "        var fmt = mpl.extensions[ind];\n",
       "        var option = $(\n",
       "            '<option/>', {selected: fmt === mpl.default_extension}).html(fmt);\n",
       "        fmt_picker.append(option)\n",
       "    }\n",
       "\n",
       "    // Add hover states to the ui-buttons\n",
       "    $( \".ui-button\" ).hover(\n",
       "        function() { $(this).addClass(\"ui-state-hover\");},\n",
       "        function() { $(this).removeClass(\"ui-state-hover\");}\n",
       "    );\n",
       "\n",
       "    var status_bar = $('<span class=\"mpl-message\"/>');\n",
       "    nav_element.append(status_bar);\n",
       "    this.message = status_bar[0];\n",
       "}\n",
       "\n",
       "mpl.figure.prototype.request_resize = function(x_pixels, y_pixels) {\n",
       "    // Request matplotlib to resize the figure. Matplotlib will then trigger a resize in the client,\n",
       "    // which will in turn request a refresh of the image.\n",
       "    this.send_message('resize', {'width': x_pixels, 'height': y_pixels});\n",
       "}\n",
       "\n",
       "mpl.figure.prototype.send_message = function(type, properties) {\n",
       "    properties['type'] = type;\n",
       "    properties['figure_id'] = this.id;\n",
       "    this.ws.send(JSON.stringify(properties));\n",
       "}\n",
       "\n",
       "mpl.figure.prototype.send_draw_message = function() {\n",
       "    if (!this.waiting) {\n",
       "        this.waiting = true;\n",
       "        this.ws.send(JSON.stringify({type: \"draw\", figure_id: this.id}));\n",
       "    }\n",
       "}\n",
       "\n",
       "\n",
       "mpl.figure.prototype.handle_save = function(fig, msg) {\n",
       "    var format_dropdown = fig.format_dropdown;\n",
       "    var format = format_dropdown.options[format_dropdown.selectedIndex].value;\n",
       "    fig.ondownload(fig, format);\n",
       "}\n",
       "\n",
       "\n",
       "mpl.figure.prototype.handle_resize = function(fig, msg) {\n",
       "    var size = msg['size'];\n",
       "    if (size[0] != fig.canvas.width || size[1] != fig.canvas.height) {\n",
       "        fig._resize_canvas(size[0], size[1]);\n",
       "        fig.send_message(\"refresh\", {});\n",
       "    };\n",
       "}\n",
       "\n",
       "mpl.figure.prototype.handle_rubberband = function(fig, msg) {\n",
       "    var x0 = msg['x0'] / mpl.ratio;\n",
       "    var y0 = (fig.canvas.height - msg['y0']) / mpl.ratio;\n",
       "    var x1 = msg['x1'] / mpl.ratio;\n",
       "    var y1 = (fig.canvas.height - msg['y1']) / mpl.ratio;\n",
       "    x0 = Math.floor(x0) + 0.5;\n",
       "    y0 = Math.floor(y0) + 0.5;\n",
       "    x1 = Math.floor(x1) + 0.5;\n",
       "    y1 = Math.floor(y1) + 0.5;\n",
       "    var min_x = Math.min(x0, x1);\n",
       "    var min_y = Math.min(y0, y1);\n",
       "    var width = Math.abs(x1 - x0);\n",
       "    var height = Math.abs(y1 - y0);\n",
       "\n",
       "    fig.rubberband_context.clearRect(\n",
       "        0, 0, fig.canvas.width, fig.canvas.height);\n",
       "\n",
       "    fig.rubberband_context.strokeRect(min_x, min_y, width, height);\n",
       "}\n",
       "\n",
       "mpl.figure.prototype.handle_figure_label = function(fig, msg) {\n",
       "    // Updates the figure title.\n",
       "    fig.header.textContent = msg['label'];\n",
       "}\n",
       "\n",
       "mpl.figure.prototype.handle_cursor = function(fig, msg) {\n",
       "    var cursor = msg['cursor'];\n",
       "    switch(cursor)\n",
       "    {\n",
       "    case 0:\n",
       "        cursor = 'pointer';\n",
       "        break;\n",
       "    case 1:\n",
       "        cursor = 'default';\n",
       "        break;\n",
       "    case 2:\n",
       "        cursor = 'crosshair';\n",
       "        break;\n",
       "    case 3:\n",
       "        cursor = 'move';\n",
       "        break;\n",
       "    }\n",
       "    fig.rubberband_canvas.style.cursor = cursor;\n",
       "}\n",
       "\n",
       "mpl.figure.prototype.handle_message = function(fig, msg) {\n",
       "    fig.message.textContent = msg['message'];\n",
       "}\n",
       "\n",
       "mpl.figure.prototype.handle_draw = function(fig, msg) {\n",
       "    // Request the server to send over a new figure.\n",
       "    fig.send_draw_message();\n",
       "}\n",
       "\n",
       "mpl.figure.prototype.handle_image_mode = function(fig, msg) {\n",
       "    fig.image_mode = msg['mode'];\n",
       "}\n",
       "\n",
       "mpl.figure.prototype.updated_canvas_event = function() {\n",
       "    // Called whenever the canvas gets updated.\n",
       "    this.send_message(\"ack\", {});\n",
       "}\n",
       "\n",
       "// A function to construct a web socket function for onmessage handling.\n",
       "// Called in the figure constructor.\n",
       "mpl.figure.prototype._make_on_message_function = function(fig) {\n",
       "    return function socket_on_message(evt) {\n",
       "        if (evt.data instanceof Blob) {\n",
       "            /* FIXME: We get \"Resource interpreted as Image but\n",
       "             * transferred with MIME type text/plain:\" errors on\n",
       "             * Chrome.  But how to set the MIME type?  It doesn't seem\n",
       "             * to be part of the websocket stream */\n",
       "            evt.data.type = \"image/png\";\n",
       "\n",
       "            /* Free the memory for the previous frames */\n",
       "            if (fig.imageObj.src) {\n",
       "                (window.URL || window.webkitURL).revokeObjectURL(\n",
       "                    fig.imageObj.src);\n",
       "            }\n",
       "\n",
       "            fig.imageObj.src = (window.URL || window.webkitURL).createObjectURL(\n",
       "                evt.data);\n",
       "            fig.updated_canvas_event();\n",
       "            fig.waiting = false;\n",
       "            return;\n",
       "        }\n",
       "        else if (typeof evt.data === 'string' && evt.data.slice(0, 21) == \"data:image/png;base64\") {\n",
       "            fig.imageObj.src = evt.data;\n",
       "            fig.updated_canvas_event();\n",
       "            fig.waiting = false;\n",
       "            return;\n",
       "        }\n",
       "\n",
       "        var msg = JSON.parse(evt.data);\n",
       "        var msg_type = msg['type'];\n",
       "\n",
       "        // Call the  \"handle_{type}\" callback, which takes\n",
       "        // the figure and JSON message as its only arguments.\n",
       "        try {\n",
       "            var callback = fig[\"handle_\" + msg_type];\n",
       "        } catch (e) {\n",
       "            console.log(\"No handler for the '\" + msg_type + \"' message type: \", msg);\n",
       "            return;\n",
       "        }\n",
       "\n",
       "        if (callback) {\n",
       "            try {\n",
       "                // console.log(\"Handling '\" + msg_type + \"' message: \", msg);\n",
       "                callback(fig, msg);\n",
       "            } catch (e) {\n",
       "                console.log(\"Exception inside the 'handler_\" + msg_type + \"' callback:\", e, e.stack, msg);\n",
       "            }\n",
       "        }\n",
       "    };\n",
       "}\n",
       "\n",
       "// from http://stackoverflow.com/questions/1114465/getting-mouse-location-in-canvas\n",
       "mpl.findpos = function(e) {\n",
       "    //this section is from http://www.quirksmode.org/js/events_properties.html\n",
       "    var targ;\n",
       "    if (!e)\n",
       "        e = window.event;\n",
       "    if (e.target)\n",
       "        targ = e.target;\n",
       "    else if (e.srcElement)\n",
       "        targ = e.srcElement;\n",
       "    if (targ.nodeType == 3) // defeat Safari bug\n",
       "        targ = targ.parentNode;\n",
       "\n",
       "    // jQuery normalizes the pageX and pageY\n",
       "    // pageX,Y are the mouse positions relative to the document\n",
       "    // offset() returns the position of the element relative to the document\n",
       "    var x = e.pageX - $(targ).offset().left;\n",
       "    var y = e.pageY - $(targ).offset().top;\n",
       "\n",
       "    return {\"x\": x, \"y\": y};\n",
       "};\n",
       "\n",
       "/*\n",
       " * return a copy of an object with only non-object keys\n",
       " * we need this to avoid circular references\n",
       " * http://stackoverflow.com/a/24161582/3208463\n",
       " */\n",
       "function simpleKeys (original) {\n",
       "  return Object.keys(original).reduce(function (obj, key) {\n",
       "    if (typeof original[key] !== 'object')\n",
       "        obj[key] = original[key]\n",
       "    return obj;\n",
       "  }, {});\n",
       "}\n",
       "\n",
       "mpl.figure.prototype.mouse_event = function(event, name) {\n",
       "    var canvas_pos = mpl.findpos(event)\n",
       "\n",
       "    if (name === 'button_press')\n",
       "    {\n",
       "        this.canvas.focus();\n",
       "        this.canvas_div.focus();\n",
       "    }\n",
       "\n",
       "    var x = canvas_pos.x * mpl.ratio;\n",
       "    var y = canvas_pos.y * mpl.ratio;\n",
       "\n",
       "    this.send_message(name, {x: x, y: y, button: event.button,\n",
       "                             step: event.step,\n",
       "                             guiEvent: simpleKeys(event)});\n",
       "\n",
       "    /* This prevents the web browser from automatically changing to\n",
       "     * the text insertion cursor when the button is pressed.  We want\n",
       "     * to control all of the cursor setting manually through the\n",
       "     * 'cursor' event from matplotlib */\n",
       "    event.preventDefault();\n",
       "    return false;\n",
       "}\n",
       "\n",
       "mpl.figure.prototype._key_event_extra = function(event, name) {\n",
       "    // Handle any extra behaviour associated with a key event\n",
       "}\n",
       "\n",
       "mpl.figure.prototype.key_event = function(event, name) {\n",
       "\n",
       "    // Prevent repeat events\n",
       "    if (name == 'key_press')\n",
       "    {\n",
       "        if (event.which === this._key)\n",
       "            return;\n",
       "        else\n",
       "            this._key = event.which;\n",
       "    }\n",
       "    if (name == 'key_release')\n",
       "        this._key = null;\n",
       "\n",
       "    var value = '';\n",
       "    if (event.ctrlKey && event.which != 17)\n",
       "        value += \"ctrl+\";\n",
       "    if (event.altKey && event.which != 18)\n",
       "        value += \"alt+\";\n",
       "    if (event.shiftKey && event.which != 16)\n",
       "        value += \"shift+\";\n",
       "\n",
       "    value += 'k';\n",
       "    value += event.which.toString();\n",
       "\n",
       "    this._key_event_extra(event, name);\n",
       "\n",
       "    this.send_message(name, {key: value,\n",
       "                             guiEvent: simpleKeys(event)});\n",
       "    return false;\n",
       "}\n",
       "\n",
       "mpl.figure.prototype.toolbar_button_onclick = function(name) {\n",
       "    if (name == 'download') {\n",
       "        this.handle_save(this, null);\n",
       "    } else {\n",
       "        this.send_message(\"toolbar_button\", {name: name});\n",
       "    }\n",
       "};\n",
       "\n",
       "mpl.figure.prototype.toolbar_button_onmouseover = function(tooltip) {\n",
       "    this.message.textContent = tooltip;\n",
       "};\n",
       "mpl.toolbar_items = [[\"Home\", \"Reset original view\", \"fa fa-home icon-home\", \"home\"], [\"Back\", \"Back to  previous view\", \"fa fa-arrow-left icon-arrow-left\", \"back\"], [\"Forward\", \"Forward to next view\", \"fa fa-arrow-right icon-arrow-right\", \"forward\"], [\"\", \"\", \"\", \"\"], [\"Pan\", \"Pan axes with left mouse, zoom with right\", \"fa fa-arrows icon-move\", \"pan\"], [\"Zoom\", \"Zoom to rectangle\", \"fa fa-square-o icon-check-empty\", \"zoom\"], [\"\", \"\", \"\", \"\"], [\"Download\", \"Download plot\", \"fa fa-floppy-o icon-save\", \"download\"]];\n",
       "\n",
       "mpl.extensions = [\"eps\", \"jpeg\", \"pdf\", \"png\", \"ps\", \"raw\", \"svg\", \"tif\"];\n",
       "\n",
       "mpl.default_extension = \"png\";var comm_websocket_adapter = function(comm) {\n",
       "    // Create a \"websocket\"-like object which calls the given IPython comm\n",
       "    // object with the appropriate methods. Currently this is a non binary\n",
       "    // socket, so there is still some room for performance tuning.\n",
       "    var ws = {};\n",
       "\n",
       "    ws.close = function() {\n",
       "        comm.close()\n",
       "    };\n",
       "    ws.send = function(m) {\n",
       "        //console.log('sending', m);\n",
       "        comm.send(m);\n",
       "    };\n",
       "    // Register the callback with on_msg.\n",
       "    comm.on_msg(function(msg) {\n",
       "        //console.log('receiving', msg['content']['data'], msg);\n",
       "        // Pass the mpl event to the overriden (by mpl) onmessage function.\n",
       "        ws.onmessage(msg['content']['data'])\n",
       "    });\n",
       "    return ws;\n",
       "}\n",
       "\n",
       "mpl.mpl_figure_comm = function(comm, msg) {\n",
       "    // This is the function which gets called when the mpl process\n",
       "    // starts-up an IPython Comm through the \"matplotlib\" channel.\n",
       "\n",
       "    var id = msg.content.data.id;\n",
       "    // Get hold of the div created by the display call when the Comm\n",
       "    // socket was opened in Python.\n",
       "    var element = $(\"#\" + id);\n",
       "    var ws_proxy = comm_websocket_adapter(comm)\n",
       "\n",
       "    function ondownload(figure, format) {\n",
       "        window.open(figure.imageObj.src);\n",
       "    }\n",
       "\n",
       "    var fig = new mpl.figure(id, ws_proxy,\n",
       "                           ondownload,\n",
       "                           element.get(0));\n",
       "\n",
       "    // Call onopen now - mpl needs it, as it is assuming we've passed it a real\n",
       "    // web socket which is closed, not our websocket->open comm proxy.\n",
       "    ws_proxy.onopen();\n",
       "\n",
       "    fig.parent_element = element.get(0);\n",
       "    fig.cell_info = mpl.find_output_cell(\"<div id='\" + id + \"'></div>\");\n",
       "    if (!fig.cell_info) {\n",
       "        console.error(\"Failed to find cell for figure\", id, fig);\n",
       "        return;\n",
       "    }\n",
       "\n",
       "    var output_index = fig.cell_info[2]\n",
       "    var cell = fig.cell_info[0];\n",
       "\n",
       "};\n",
       "\n",
       "mpl.figure.prototype.handle_close = function(fig, msg) {\n",
       "    var width = fig.canvas.width/mpl.ratio\n",
       "    fig.root.unbind('remove')\n",
       "\n",
       "    // Update the output cell to use the data from the current canvas.\n",
       "    fig.push_to_output();\n",
       "    var dataURL = fig.canvas.toDataURL();\n",
       "    // Re-enable the keyboard manager in IPython - without this line, in FF,\n",
       "    // the notebook keyboard shortcuts fail.\n",
       "    IPython.keyboard_manager.enable()\n",
       "    $(fig.parent_element).html('<img src=\"' + dataURL + '\" width=\"' + width + '\">');\n",
       "    fig.close_ws(fig, msg);\n",
       "}\n",
       "\n",
       "mpl.figure.prototype.close_ws = function(fig, msg){\n",
       "    fig.send_message('closing', msg);\n",
       "    // fig.ws.close()\n",
       "}\n",
       "\n",
       "mpl.figure.prototype.push_to_output = function(remove_interactive) {\n",
       "    // Turn the data on the canvas into data in the output cell.\n",
       "    var width = this.canvas.width/mpl.ratio\n",
       "    var dataURL = this.canvas.toDataURL();\n",
       "    this.cell_info[1]['text/html'] = '<img src=\"' + dataURL + '\" width=\"' + width + '\">';\n",
       "}\n",
       "\n",
       "mpl.figure.prototype.updated_canvas_event = function() {\n",
       "    // Tell IPython that the notebook contents must change.\n",
       "    IPython.notebook.set_dirty(true);\n",
       "    this.send_message(\"ack\", {});\n",
       "    var fig = this;\n",
       "    // Wait a second, then push the new image to the DOM so\n",
       "    // that it is saved nicely (might be nice to debounce this).\n",
       "    setTimeout(function () { fig.push_to_output() }, 1000);\n",
       "}\n",
       "\n",
       "mpl.figure.prototype._init_toolbar = function() {\n",
       "    var fig = this;\n",
       "\n",
       "    var nav_element = $('<div/>')\n",
       "    nav_element.attr('style', 'width: 100%');\n",
       "    this.root.append(nav_element);\n",
       "\n",
       "    // Define a callback function for later on.\n",
       "    function toolbar_event(event) {\n",
       "        return fig.toolbar_button_onclick(event['data']);\n",
       "    }\n",
       "    function toolbar_mouse_event(event) {\n",
       "        return fig.toolbar_button_onmouseover(event['data']);\n",
       "    }\n",
       "\n",
       "    for(var toolbar_ind in mpl.toolbar_items){\n",
       "        var name = mpl.toolbar_items[toolbar_ind][0];\n",
       "        var tooltip = mpl.toolbar_items[toolbar_ind][1];\n",
       "        var image = mpl.toolbar_items[toolbar_ind][2];\n",
       "        var method_name = mpl.toolbar_items[toolbar_ind][3];\n",
       "\n",
       "        if (!name) { continue; };\n",
       "\n",
       "        var button = $('<button class=\"btn btn-default\" href=\"#\" title=\"' + name + '\"><i class=\"fa ' + image + ' fa-lg\"></i></button>');\n",
       "        button.click(method_name, toolbar_event);\n",
       "        button.mouseover(tooltip, toolbar_mouse_event);\n",
       "        nav_element.append(button);\n",
       "    }\n",
       "\n",
       "    // Add the status bar.\n",
       "    var status_bar = $('<span class=\"mpl-message\" style=\"text-align:right; float: right;\"/>');\n",
       "    nav_element.append(status_bar);\n",
       "    this.message = status_bar[0];\n",
       "\n",
       "    // Add the close button to the window.\n",
       "    var buttongrp = $('<div class=\"btn-group inline pull-right\"></div>');\n",
       "    var button = $('<button class=\"btn btn-mini btn-primary\" href=\"#\" title=\"Stop Interaction\"><i class=\"fa fa-power-off icon-remove icon-large\"></i></button>');\n",
       "    button.click(function (evt) { fig.handle_close(fig, {}); } );\n",
       "    button.mouseover('Stop Interaction', toolbar_mouse_event);\n",
       "    buttongrp.append(button);\n",
       "    var titlebar = this.root.find($('.ui-dialog-titlebar'));\n",
       "    titlebar.prepend(buttongrp);\n",
       "}\n",
       "\n",
       "mpl.figure.prototype._root_extra_style = function(el){\n",
       "    var fig = this\n",
       "    el.on(\"remove\", function(){\n",
       "\tfig.close_ws(fig, {});\n",
       "    });\n",
       "}\n",
       "\n",
       "mpl.figure.prototype._canvas_extra_style = function(el){\n",
       "    // this is important to make the div 'focusable\n",
       "    el.attr('tabindex', 0)\n",
       "    // reach out to IPython and tell the keyboard manager to turn it's self\n",
       "    // off when our div gets focus\n",
       "\n",
       "    // location in version 3\n",
       "    if (IPython.notebook.keyboard_manager) {\n",
       "        IPython.notebook.keyboard_manager.register_events(el);\n",
       "    }\n",
       "    else {\n",
       "        // location in version 2\n",
       "        IPython.keyboard_manager.register_events(el);\n",
       "    }\n",
       "\n",
       "}\n",
       "\n",
       "mpl.figure.prototype._key_event_extra = function(event, name) {\n",
       "    var manager = IPython.notebook.keyboard_manager;\n",
       "    if (!manager)\n",
       "        manager = IPython.keyboard_manager;\n",
       "\n",
       "    // Check for shift+enter\n",
       "    if (event.shiftKey && event.which == 13) {\n",
       "        this.canvas_div.blur();\n",
       "        // select the cell after this one\n",
       "        var index = IPython.notebook.find_cell_index(this.cell_info[0]);\n",
       "        IPython.notebook.select(index + 1);\n",
       "    }\n",
       "}\n",
       "\n",
       "mpl.figure.prototype.handle_save = function(fig, msg) {\n",
       "    fig.ondownload(fig, null);\n",
       "}\n",
       "\n",
       "\n",
       "mpl.find_output_cell = function(html_output) {\n",
       "    // Return the cell and output element which can be found *uniquely* in the notebook.\n",
       "    // Note - this is a bit hacky, but it is done because the \"notebook_saving.Notebook\"\n",
       "    // IPython event is triggered only after the cells have been serialised, which for\n",
       "    // our purposes (turning an active figure into a static one), is too late.\n",
       "    var cells = IPython.notebook.get_cells();\n",
       "    var ncells = cells.length;\n",
       "    for (var i=0; i<ncells; i++) {\n",
       "        var cell = cells[i];\n",
       "        if (cell.cell_type === 'code'){\n",
       "            for (var j=0; j<cell.output_area.outputs.length; j++) {\n",
       "                var data = cell.output_area.outputs[j];\n",
       "                if (data.data) {\n",
       "                    // IPython >= 3 moved mimebundle to data attribute of output\n",
       "                    data = data.data;\n",
       "                }\n",
       "                if (data['text/html'] == html_output) {\n",
       "                    return [cell, data, j];\n",
       "                }\n",
       "            }\n",
       "        }\n",
       "    }\n",
       "}\n",
       "\n",
       "// Register the function which deals with the matplotlib target/channel.\n",
       "// The kernel may be null if the page has been refreshed.\n",
       "if (IPython.notebook.kernel != null) {\n",
       "    IPython.notebook.kernel.comm_manager.register_target('matplotlib', mpl.mpl_figure_comm);\n",
       "}\n"
      ],
      "text/plain": [
       "<IPython.core.display.Javascript object>"
      ]
     },
     "metadata": {},
     "output_type": "display_data"
    },
    {
     "data": {
      "text/html": [
       "<img src=\"data:image/png;base64,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\" width=\"639.9999861283738\">"
      ],
      "text/plain": [
       "<IPython.core.display.HTML object>"
      ]
     },
     "metadata": {},
     "output_type": "display_data"
    }
   ],
   "source": [
    "fig, ax = plt.subplots()\n",
    "ax.plot(x_vec, y_vec);"
   ]
  },
  {
   "cell_type": "markdown",
   "metadata": {},
   "source": [
    "However, this kind of numerical evolution can be very slow, and there is a much more efficient way to do it: Use the function `lambdify` to \"compile\" a Sympy expression into a function that is much more efficient to evaluate numerically:"
   ]
  },
  {
   "cell_type": "code",
   "execution_count": 29,
   "metadata": {
    "collapsed": true
   },
   "outputs": [],
   "source": [
    "f = lambdify([x], (x + pi)**2, 'numpy')  # the first argument is a list of variables that\n",
    "                                         # f will be a function of: in this case only x -> f(x)"
   ]
  },
  {
   "cell_type": "code",
   "execution_count": 30,
   "metadata": {
    "collapsed": true
   },
   "outputs": [],
   "source": [
    "y_vec = f(x_vec)  # now we can directly pass a numpy array and f(x) is efficiently evaluated"
   ]
  },
  {
   "cell_type": "markdown",
   "metadata": {},
   "source": [
    "The speedup when using \"lambdified\" functions instead of direct numerical evaluation can be significant, often several orders of magnitude. Even in this simple example we get a significant speed up:"
   ]
  },
  {
   "cell_type": "code",
   "execution_count": 31,
   "metadata": {},
   "outputs": [
    {
     "name": "stdout",
     "output_type": "stream",
     "text": [
      "16.6 ms ± 752 µs per loop (mean ± std. dev. of 7 runs, 10 loops each)\n"
     ]
    }
   ],
   "source": [
    "%%timeit\n",
    "\n",
    "y_vec = numpy.array([N(((x + pi)**2).subs(x, xx)) for xx in x_vec])"
   ]
  },
  {
   "cell_type": "code",
   "execution_count": 32,
   "metadata": {},
   "outputs": [
    {
     "name": "stdout",
     "output_type": "stream",
     "text": [
      "1.52 µs ± 58.8 ns per loop (mean ± std. dev. of 7 runs, 1000000 loops each)\n"
     ]
    }
   ],
   "source": [
    "%%timeit\n",
    "\n",
    "y_vec = f(x_vec)"
   ]
  },
  {
   "cell_type": "markdown",
   "metadata": {},
   "source": [
    "## Algebraic manipulations"
   ]
  },
  {
   "cell_type": "markdown",
   "metadata": {},
   "source": [
    "One of the main uses of an CAS is to perform algebraic manipulations of expressions. For example, we might want to expand a product, factor an expression, or simply an expression. The functions for doing these basic operations in SymPy are demonstrated in this section."
   ]
  },
  {
   "cell_type": "markdown",
   "metadata": {},
   "source": [
    "### Expand and factor"
   ]
  },
  {
   "cell_type": "markdown",
   "metadata": {},
   "source": [
    "The first steps in an algebraic manipulation "
   ]
  },
  {
   "cell_type": "code",
   "execution_count": 33,
   "metadata": {},
   "outputs": [
    {
     "data": {
      "image/png": "[encoded data removed]",
      "text/latex": [
       "$$\\left(x + 1\\right) \\left(x + 2\\right) \\left(x + 3\\right)$$"
      ],
      "text/plain": [
       "(x + 1)⋅(x + 2)⋅(x + 3)"
      ]
     },
     "execution_count": 33,
     "metadata": {},
     "output_type": "execute_result"
    }
   ],
   "source": [
    "(x+1)*(x+2)*(x+3)"
   ]
  },
  {
   "cell_type": "code",
   "execution_count": 34,
   "metadata": {},
   "outputs": [
    {
     "data": {
      "image/png": "[encoded data removed]",
      "text/latex": [
       "$$x^{3} + 6 x^{2} + 11 x + 6$$"
      ],
      "text/plain": [
       " 3      2           \n",
       "x  + 6⋅x  + 11⋅x + 6"
      ]
     },
     "execution_count": 34,
     "metadata": {},
     "output_type": "execute_result"
    }
   ],
   "source": [
    "expand((x+1)*(x+2)*(x+3))"
   ]
  },
  {
   "cell_type": "markdown",
   "metadata": {},
   "source": [
    "The `expand` function takes a number of keywords arguments which we can tell the functions what kind of expansions we want to have performed. For example, to expand trigonometric expressions, use the `trig=True` keyword argument:"
   ]
  },
  {
   "cell_type": "code",
   "execution_count": 35,
   "metadata": {},
   "outputs": [
    {
     "data": {
      "image/png": "[encoded data removed]",
      "text/latex": [
       "$$\\sin{\\left (a + b \\right )}$$"
      ],
      "text/plain": [
       "sin(a + b)"
      ]
     },
     "execution_count": 35,
     "metadata": {},
     "output_type": "execute_result"
    }
   ],
   "source": [
    "sin(a+b)"
   ]
  },
  {
   "cell_type": "code",
   "execution_count": 36,
   "metadata": {},
   "outputs": [
    {
     "data": {
      "image/png": "[encoded data removed]",
      "text/latex": [
       "$$\\sin{\\left (a \\right )} \\cos{\\left (b \\right )} + \\sin{\\left (b \\right )} \\cos{\\left (a \\right )}$$"
      ],
      "text/plain": [
       "sin(a)⋅cos(b) + sin(b)⋅cos(a)"
      ]
     },
     "execution_count": 36,
     "metadata": {},
     "output_type": "execute_result"
    }
   ],
   "source": [
    "expand(sin(a+b), trig=True)"
   ]
  },
  {
   "cell_type": "markdown",
   "metadata": {},
   "source": [
    "See `help(expand)` for a detailed explanation of the various types of expansions the `expand` functions can perform."
   ]
  },
  {
   "cell_type": "markdown",
   "metadata": {},
   "source": [
    "The opposite a product expansion is of course factoring. The factor an expression in SymPy use the `factor` function: "
   ]
  },
  {
   "cell_type": "code",
   "execution_count": 37,
   "metadata": {},
   "outputs": [
    {
     "data": {
      "image/png": "[encoded data removed]",
      "text/latex": [
       "$$\\left(x + 1\\right) \\left(x + 2\\right) \\left(x + 3\\right)$$"
      ],
      "text/plain": [
       "(x + 1)⋅(x + 2)⋅(x + 3)"
      ]
     },
     "execution_count": 37,
     "metadata": {},
     "output_type": "execute_result"
    }
   ],
   "source": [
    "factor(x**3 + 6 * x**2 + 11*x + 6)"
   ]
  },
  {
   "cell_type": "markdown",
   "metadata": {},
   "source": [
    "### Simplify"
   ]
  },
  {
   "cell_type": "markdown",
   "metadata": {},
   "source": [
    "The `simplify` tries to simplify an expression into a nice looking expression, using various techniques. More specific alternatives to the `simplify` functions also exists: `trigsimp`, `powsimp`, `logcombine`, etc. \n",
    "\n",
    "The basic usages of these functions are as follows:"
   ]
  },
  {
   "cell_type": "code",
   "execution_count": 38,
   "metadata": {},
   "outputs": [
    {
     "data": {
      "image/png": "[encoded data removed]",
      "text/latex": [
       "$$\\left(x + 1\\right) \\left(x + 2\\right) \\left(x + 3\\right)$$"
      ],
      "text/plain": [
       "(x + 1)⋅(x + 2)⋅(x + 3)"
      ]
     },
     "execution_count": 38,
     "metadata": {},
     "output_type": "execute_result"
    }
   ],
   "source": [
    "# simplify expands a product\n",
    "simplify((x+1)*(x+2)*(x+3))"
   ]
  },
  {
   "cell_type": "code",
   "execution_count": 39,
   "metadata": {},
   "outputs": [
    {
     "data": {
      "image/png": "[encoded data removed]",
      "text/latex": [
       "$$1$$"
      ],
      "text/plain": [
       "1"
      ]
     },
     "execution_count": 39,
     "metadata": {},
     "output_type": "execute_result"
    }
   ],
   "source": [
    "# simplify uses trigonometric identities\n",
    "simplify(sin(a)**2 + cos(a)**2)"
   ]
  },
  {
   "cell_type": "code",
   "execution_count": 40,
   "metadata": {},
   "outputs": [
    {
     "data": {
      "image/png": "[encoded data removed]",
      "text/latex": [
       "$$\\frac{1}{\\tan{\\left (x \\right )}}$$"
      ],
      "text/plain": [
       "  1   \n",
       "──────\n",
       "tan(x)"
      ]
     },
     "execution_count": 40,
     "metadata": {},
     "output_type": "execute_result"
    }
   ],
   "source": [
    "simplify(cos(x)/sin(x))"
   ]
  },
  {
   "cell_type": "markdown",
   "metadata": {},
   "source": [
    "### apart and together"
   ]
  },
  {
   "cell_type": "markdown",
   "metadata": {},
   "source": [
    "To manipulate symbolic expressions of fractions, we can use the `apart` and `together` functions:"
   ]
  },
  {
   "cell_type": "code",
   "execution_count": 41,
   "metadata": {
    "collapsed": true
   },
   "outputs": [],
   "source": [
    "f1 = 1/((a+1)*(a+2))"
   ]
  },
  {
   "cell_type": "code",
   "execution_count": 42,
   "metadata": {},
   "outputs": [
    {
     "data": {
      "image/png": "[encoded data removed]",
      "text/latex": [
       "$$\\frac{1}{\\left(a + 1\\right) \\left(a + 2\\right)}$$"
      ],
      "text/plain": [
       "       1       \n",
       "───────────────\n",
       "(a + 1)⋅(a + 2)"
      ]
     },
     "execution_count": 42,
     "metadata": {},
     "output_type": "execute_result"
    }
   ],
   "source": [
    "f1"
   ]
  },
  {
   "cell_type": "code",
   "execution_count": 43,
   "metadata": {},
   "outputs": [
    {
     "data": {
      "image/png": "[encoded data removed]",
      "text/latex": [
       "$$- \\frac{1}{a + 2} + \\frac{1}{a + 1}$$"
      ],
      "text/plain": [
       "    1       1  \n",
       "- ───── + ─────\n",
       "  a + 2   a + 1"
      ]
     },
     "execution_count": 43,
     "metadata": {},
     "output_type": "execute_result"
    }
   ],
   "source": [
    "apart(f1)"
   ]
  },
  {
   "cell_type": "code",
   "execution_count": 44,
   "metadata": {
    "collapsed": true
   },
   "outputs": [],
   "source": [
    "f2 = 1/(a+2) + 1/(a+3)"
   ]
  },
  {
   "cell_type": "code",
   "execution_count": 45,
   "metadata": {},
   "outputs": [
    {
     "data": {
      "image/png": "[encoded data removed]",
      "text/latex": [
       "$$\\frac{1}{a + 3} + \\frac{1}{a + 2}$$"
      ],
      "text/plain": [
       "  1       1  \n",
       "───── + ─────\n",
       "a + 3   a + 2"
      ]
     },
     "execution_count": 45,
     "metadata": {},
     "output_type": "execute_result"
    }
   ],
   "source": [
    "f2"
   ]
  },
  {
   "cell_type": "code",
   "execution_count": 46,
   "metadata": {},
   "outputs": [
    {
     "data": {
      "image/png": "[encoded data removed]",
      "text/latex": [
       "$$\\frac{2 a + 5}{\\left(a + 2\\right) \\left(a + 3\\right)}$$"
      ],
      "text/plain": [
       "    2⋅a + 5    \n",
       "───────────────\n",
       "(a + 2)⋅(a + 3)"
      ]
     },
     "execution_count": 46,
     "metadata": {},
     "output_type": "execute_result"
    }
   ],
   "source": [
    "together(f2)"
   ]
  },
  {
   "cell_type": "markdown",
   "metadata": {},
   "source": [
    "Simplify usually combines fractions but does not factor: "
   ]
  },
  {
   "cell_type": "code",
   "execution_count": 47,
   "metadata": {},
   "outputs": [
    {
     "data": {
      "image/png": "[encoded data removed]",
      "text/latex": [
       "$$\\frac{2 a + 5}{\\left(a + 2\\right) \\left(a + 3\\right)}$$"
      ],
      "text/plain": [
       "    2⋅a + 5    \n",
       "───────────────\n",
       "(a + 2)⋅(a + 3)"
      ]
     },
     "execution_count": 47,
     "metadata": {},
     "output_type": "execute_result"
    }
   ],
   "source": [
    "simplify(f2)"
   ]
  },
  {
   "cell_type": "markdown",
   "metadata": {},
   "source": [
    "## Calculus"
   ]
  },
  {
   "cell_type": "markdown",
   "metadata": {},
   "source": [
    "In addition to algebraic manipulations, the other main use of CAS is to do calculus, like derivatives and integrals of algebraic expressions."
   ]
  },
  {
   "cell_type": "markdown",
   "metadata": {},
   "source": [
    "### Differentiation"
   ]
  },
  {
   "cell_type": "markdown",
   "metadata": {},
   "source": [
    "Differentiation is usually simple. Use the `diff` function. The first argument is the expression to take the derivative of, and the second argument is the symbol by which to take the derivative:"
   ]
  },
  {
   "cell_type": "code",
   "execution_count": 48,
   "metadata": {},
   "outputs": [
    {
     "data": {
      "image/png": "[encoded data removed]",
      "text/latex": [
       "$$\\left(x + \\pi\\right)^{2}$$"
      ],
      "text/plain": [
       "       2\n",
       "(x + π) "
      ]
     },
     "execution_count": 48,
     "metadata": {},
     "output_type": "execute_result"
    }
   ],
   "source": [
    "y"
   ]
  },
  {
   "cell_type": "code",
   "execution_count": 49,
   "metadata": {},
   "outputs": [
    {
     "data": {
      "image/png": "[encoded data removed]",
      "text/latex": [
       "$$4 \\left(x + \\pi\\right)^{3}$$"
      ],
      "text/plain": [
       "         3\n",
       "4⋅(x + π) "
      ]
     },
     "execution_count": 49,
     "metadata": {},
     "output_type": "execute_result"
    }
   ],
   "source": [
    "diff(y**2, x)"
   ]
  },
  {
   "cell_type": "markdown",
   "metadata": {},
   "source": [
    "For higher order derivatives we can do:"
   ]
  },
  {
   "cell_type": "code",
   "execution_count": 50,
   "metadata": {},
   "outputs": [
    {
     "data": {
      "image/png": "[encoded data removed]",
      "text/latex": [
       "$$12 \\left(x + \\pi\\right)^{2}$$"
      ],
      "text/plain": [
       "          2\n",
       "12⋅(x + π) "
      ]
     },
     "execution_count": 50,
     "metadata": {},
     "output_type": "execute_result"
    }
   ],
   "source": [
    "diff(y**2, x, x)"
   ]
  },
  {
   "cell_type": "code",
   "execution_count": 51,
   "metadata": {},
   "outputs": [
    {
     "data": {
      "image/png": "[encoded data removed]",
      "text/latex": [
       "$$12 \\left(x + \\pi\\right)^{2}$$"
      ],
      "text/plain": [
       "          2\n",
       "12⋅(x + π) "
      ]
     },
     "execution_count": 51,
     "metadata": {},
     "output_type": "execute_result"
    }
   ],
   "source": [
    "diff(y**2, x, 2) # same as above"
   ]
  },
  {
   "cell_type": "markdown",
   "metadata": {},
   "source": [
    "To calculate the derivative of a multivariate expression, we can do:"
   ]
  },
  {
   "cell_type": "code",
   "execution_count": 52,
   "metadata": {
    "collapsed": true
   },
   "outputs": [],
   "source": [
    "x, y, z = symbols(\"x,y,z\")"
   ]
  },
  {
   "cell_type": "code",
   "execution_count": 53,
   "metadata": {
    "collapsed": true
   },
   "outputs": [],
   "source": [
    "f = sin(x*y) + cos(y*z)"
   ]
  },
  {
   "cell_type": "markdown",
   "metadata": {},
   "source": [
    "$\\frac{d^3f}{dxdy^2}$"
   ]
  },
  {
   "cell_type": "code",
   "execution_count": 54,
   "metadata": {},
   "outputs": [
    {
     "data": {
      "image/png": "[encoded data removed]",
      "text/latex": [
       "$$- x \\left(x y \\cos{\\left (x y \\right )} + 2 \\sin{\\left (x y \\right )}\\right)$$"
      ],
      "text/plain": [
       "-x⋅(x⋅y⋅cos(x⋅y) + 2⋅sin(x⋅y))"
      ]
     },
     "execution_count": 54,
     "metadata": {},
     "output_type": "execute_result"
    }
   ],
   "source": [
    "diff(f, x, 1, y, 2)"
   ]
  },
  {
   "cell_type": "markdown",
   "metadata": {},
   "source": [
    "## Integration"
   ]
  },
  {
   "cell_type": "markdown",
   "metadata": {},
   "source": [
    "Integration is done in a similar fashion:"
   ]
  },
  {
   "cell_type": "code",
   "execution_count": 55,
   "metadata": {},
   "outputs": [
    {
     "data": {
      "image/png": "[encoded data removed]",
      "text/latex": [
       "$$\\sin{\\left (x y \\right )} + \\cos{\\left (y z \\right )}$$"
      ],
      "text/plain": [
       "sin(x⋅y) + cos(y⋅z)"
      ]
     },
     "execution_count": 55,
     "metadata": {},
     "output_type": "execute_result"
    }
   ],
   "source": [
    "f"
   ]
  },
  {
   "cell_type": "code",
   "execution_count": 56,
   "metadata": {},
   "outputs": [
    {
     "data": {
      "image/png": "[encoded data removed]",
      "text/latex": [
       "$$x \\cos{\\left (y z \\right )} + \\begin{cases} 0 & \\text{for}\\: y = 0 \\\\- \\frac{1}{y} \\cos{\\left (x y \\right )} & \\text{otherwise} \\end{cases}$$"
      ],
      "text/plain": [
       "             ⎛⎧    0       for y = 0⎞\n",
       "             ⎜⎪                     ⎟\n",
       "x⋅cos(y⋅z) + ⎜⎨-cos(x⋅y)            ⎟\n",
       "             ⎜⎪──────────  otherwise⎟\n",
       "             ⎝⎩    y                ⎠"
      ]
     },
     "execution_count": 56,
     "metadata": {},
     "output_type": "execute_result"
    }
   ],
   "source": [
    "integrate(f, x)"
   ]
  },
  {
   "cell_type": "markdown",
   "metadata": {},
   "source": [
    "By providing limits for the integration variable we can evaluate definite integrals:"
   ]
  },
  {
   "cell_type": "code",
   "execution_count": 57,
   "metadata": {},
   "outputs": [
    {
     "data": {
      "image/png": "[encoded data removed]",
      "text/latex": [
       "$$2 \\cos{\\left (y z \\right )}$$"
      ],
      "text/plain": [
       "2⋅cos(y⋅z)"
      ]
     },
     "execution_count": 57,
     "metadata": {},
     "output_type": "execute_result"
    }
   ],
   "source": [
    "integrate(f, (x, -1, 1))"
   ]
  },
  {
   "cell_type": "markdown",
   "metadata": {},
   "source": [
    "and also improper integrals"
   ]
  },
  {
   "cell_type": "code",
   "execution_count": 58,
   "metadata": {},
   "outputs": [
    {
     "data": {
      "image/png": "[encoded data removed]",
      "text/latex": [
       "$$\\sqrt{\\pi}$$"
      ],
      "text/plain": [
       "√π"
      ]
     },
     "execution_count": 58,
     "metadata": {},
     "output_type": "execute_result"
    }
   ],
   "source": [
    "integrate(exp(-x**2), (x, -oo, oo))"
   ]
  },
  {
   "cell_type": "markdown",
   "metadata": {},
   "source": [
    "Remember, `oo` is the SymPy notation for inifinity."
   ]
  },
  {
   "cell_type": "markdown",
   "metadata": {},
   "source": [
    "### Sums and products"
   ]
  },
  {
   "cell_type": "markdown",
   "metadata": {},
   "source": [
    "We can evaluate sums and products using the functions: 'Sum'"
   ]
  },
  {
   "cell_type": "code",
   "execution_count": 59,
   "metadata": {
    "collapsed": true
   },
   "outputs": [],
   "source": [
    "n = Symbol(\"n\")"
   ]
  },
  {
   "cell_type": "code",
   "execution_count": 60,
   "metadata": {},
   "outputs": [
    {
     "data": {
      "image/png": "[encoded data removed]",
      "text/latex": [
       "$$\\sum_{n=1}^{10} \\frac{1}{n^{2}}$$"
      ],
      "text/plain": [
       "  10    \n",
       " ____   \n",
       " ╲      \n",
       "  ╲   1 \n",
       "   ╲  ──\n",
       "   ╱   2\n",
       "  ╱   n \n",
       " ╱      \n",
       " ‾‾‾‾   \n",
       "n = 1   "
      ]
     },
     "execution_count": 60,
     "metadata": {},
     "output_type": "execute_result"
    }
   ],
   "source": [
    "Sum(1/n**2, (n, 1, 10))"
   ]
  },
  {
   "cell_type": "code",
   "execution_count": 61,
   "metadata": {},
   "outputs": [
    {
     "data": {
      "image/png": "[encoded data removed]",
      "text/latex": [
       "$$1.54976773116654$$"
      ],
      "text/plain": [
       "1.54976773116654"
      ]
     },
     "execution_count": 61,
     "metadata": {},
     "output_type": "execute_result"
    }
   ],
   "source": [
    "Sum(1/n**2, (n,1, 10)).evalf()"
   ]
  },
  {
   "cell_type": "code",
   "execution_count": 62,
   "metadata": {},
   "outputs": [
    {
     "data": {
      "image/png": "[encoded data removed]",
      "text/latex": [
       "$$1.64493406684823$$"
      ],
      "text/plain": [
       "1.64493406684823"
      ]
     },
     "execution_count": 62,
     "metadata": {},
     "output_type": "execute_result"
    }
   ],
   "source": [
    "Sum(1/n**2, (n, 1, oo)).evalf()"
   ]
  },
  {
   "cell_type": "markdown",
   "metadata": {},
   "source": [
    "Products work much the same way:"
   ]
  },
  {
   "cell_type": "code",
   "execution_count": 63,
   "metadata": {},
   "outputs": [
    {
     "data": {
      "image/png": "[encoded data removed]",
      "text/latex": [
       "$$\\prod_{n=1}^{10} n$$"
      ],
      "text/plain": [
       "  10   \n",
       "┬───┬  \n",
       "│   │ n\n",
       "│   │  \n",
       "n = 1  "
      ]
     },
     "execution_count": 63,
     "metadata": {},
     "output_type": "execute_result"
    }
   ],
   "source": [
    "Product(n, (n, 1, 10)) # 10!"
   ]
  },
  {
   "cell_type": "markdown",
   "metadata": {},
   "source": [
    "## Limits"
   ]
  },
  {
   "cell_type": "markdown",
   "metadata": {},
   "source": [
    "Limits can be evaluated using the `limit` function. For example, "
   ]
  },
  {
   "cell_type": "code",
   "execution_count": 64,
   "metadata": {},
   "outputs": [
    {
     "data": {
      "image/png": "[encoded data removed]",
      "text/latex": [
       "$$1$$"
      ],
      "text/plain": [
       "1"
      ]
     },
     "execution_count": 64,
     "metadata": {},
     "output_type": "execute_result"
    }
   ],
   "source": [
    "limit(sin(x)/x, x, 0)"
   ]
  },
  {
   "cell_type": "markdown",
   "metadata": {},
   "source": [
    "We can use 'limit' to check the result of derivation using the `diff` function:"
   ]
  },
  {
   "cell_type": "code",
   "execution_count": 65,
   "metadata": {},
   "outputs": [
    {
     "data": {
      "image/png": "[encoded data removed]",
      "text/latex": [
       "$$\\sin{\\left (x y \\right )} + \\cos{\\left (y z \\right )}$$"
      ],
      "text/plain": [
       "sin(x⋅y) + cos(y⋅z)"
      ]
     },
     "execution_count": 65,
     "metadata": {},
     "output_type": "execute_result"
    }
   ],
   "source": [
    "f"
   ]
  },
  {
   "cell_type": "code",
   "execution_count": 66,
   "metadata": {},
   "outputs": [
    {
     "data": {
      "image/png": "[encoded data removed]",
      "text/latex": [
       "$$y \\cos{\\left (x y \\right )}$$"
      ],
      "text/plain": [
       "y⋅cos(x⋅y)"
      ]
     },
     "execution_count": 66,
     "metadata": {},
     "output_type": "execute_result"
    }
   ],
   "source": [
    "diff(f, x)"
   ]
  },
  {
   "cell_type": "markdown",
   "metadata": {},
   "source": [
    "$\\displaystyle \\frac{\\mathrm{d}f(x,y)}{\\mathrm{d}x} = \\frac{f(x+h,y)-f(x,y)}{h}$"
   ]
  },
  {
   "cell_type": "code",
   "execution_count": 67,
   "metadata": {
    "collapsed": true
   },
   "outputs": [],
   "source": [
    "h = Symbol(\"h\")"
   ]
  },
  {
   "cell_type": "code",
   "execution_count": 68,
   "metadata": {},
   "outputs": [
    {
     "data": {
      "image/png": "[encoded data removed]",
      "text/latex": [
       "$$y \\cos{\\left (x y \\right )}$$"
      ],
      "text/plain": [
       "y⋅cos(x⋅y)"
      ]
     },
     "execution_count": 68,
     "metadata": {},
     "output_type": "execute_result"
    }
   ],
   "source": [
    "limit((f.subs(x, x+h) - f)/h, h, 0)"
   ]
  },
  {
   "cell_type": "markdown",
   "metadata": {},
   "source": [
    "OK!"
   ]
  },
  {
   "cell_type": "markdown",
   "metadata": {},
   "source": [
    "We can change the direction from which we approach the limiting point using the `dir` keywork argument:"
   ]
  },
  {
   "cell_type": "code",
   "execution_count": 69,
   "metadata": {},
   "outputs": [
    {
     "data": {
      "image/png": "[encoded data removed]",
      "text/latex": [
       "$$\\infty$$"
      ],
      "text/plain": [
       "∞"
      ]
     },
     "execution_count": 69,
     "metadata": {},
     "output_type": "execute_result"
    }
   ],
   "source": [
    "limit(1/x, x, 0, dir=\"+\")"
   ]
  },
  {
   "cell_type": "code",
   "execution_count": 70,
   "metadata": {},
   "outputs": [
    {
     "data": {
      "image/png": "[encoded data removed]",
      "text/latex": [
       "$$-\\infty$$"
      ],
      "text/plain": [
       "-∞"
      ]
     },
     "execution_count": 70,
     "metadata": {},
     "output_type": "execute_result"
    }
   ],
   "source": [
    "limit(1/x, x, 0, dir=\"-\")"
   ]
  },
  {
   "cell_type": "markdown",
   "metadata": {},
   "source": [
    "## Series"
   ]
  },
  {
   "cell_type": "markdown",
   "metadata": {},
   "source": [
    "Series expansion is also one of the most useful features of a CAS. In SymPy we can perform a series expansion of an expression using the `series` function:"
   ]
  },
  {
   "cell_type": "code",
   "execution_count": 71,
   "metadata": {},
   "outputs": [
    {
     "data": {
      "image/png": "[encoded data removed]",
      "text/latex": [
       "$$1 + x + \\frac{x^{2}}{2} + \\frac{x^{3}}{6} + \\frac{x^{4}}{24} + \\frac{x^{5}}{120} + \\mathcal{O}\\left(x^{6}\\right)$$"
      ],
      "text/plain": [
       "         2    3    4     5        \n",
       "        x    x    x     x     ⎛ 6⎞\n",
       "1 + x + ── + ── + ── + ─── + O⎝x ⎠\n",
       "        2    6    24   120        "
      ]
     },
     "execution_count": 71,
     "metadata": {},
     "output_type": "execute_result"
    }
   ],
   "source": [
    "series(exp(x), x)"
   ]
  },
  {
   "cell_type": "markdown",
   "metadata": {},
   "source": [
    "By default it expands the expression around $x=0$, but we can expand around any value of $x$ by explicitly include a value in the function call:"
   ]
  },
  {
   "cell_type": "code",
   "execution_count": 72,
   "metadata": {},
   "outputs": [
    {
     "data": {
      "image/png": "[encoded data removed]",
      "text/latex": [
       "$$e + e \\left(x - 1\\right) + \\frac{e}{2} \\left(x - 1\\right)^{2} + \\frac{e}{6} \\left(x - 1\\right)^{3} + \\frac{e}{24} \\left(x - 1\\right)^{4} + \\frac{e}{120} \\left(x - 1\\right)^{5} + \\mathcal{O}\\left(\\left(x - 1\\right)^{6}; x\\rightarrow1\\right)$$"
      ],
      "text/plain": [
       "                         2            3            4            5             \n",
       "                ℯ⋅(x - 1)    ℯ⋅(x - 1)    ℯ⋅(x - 1)    ℯ⋅(x - 1)     ⎛       6\n",
       "ℯ + ℯ⋅(x - 1) + ────────── + ────────── + ────────── + ────────── + O⎝(x - 1) \n",
       "                    2            6            24          120                 \n",
       "\n",
       "        \n",
       "       ⎞\n",
       "; x → 1⎠\n",
       "        "
      ]
     },
     "execution_count": 72,
     "metadata": {},
     "output_type": "execute_result"
    }
   ],
   "source": [
    "series(exp(x), x, 1)"
   ]
  },
  {
   "cell_type": "markdown",
   "metadata": {},
   "source": [
    "And we can explicitly define to which order the series expansion should be carried out:"
   ]
  },
  {
   "cell_type": "code",
   "execution_count": 73,
   "metadata": {},
   "outputs": [
    {
     "data": {
      "image/png": "[encoded data removed]",
      "text/latex": [
       "$$e + e \\left(x - 1\\right) + \\frac{e}{2} \\left(x - 1\\right)^{2} + \\frac{e}{6} \\left(x - 1\\right)^{3} + \\frac{e}{24} \\left(x - 1\\right)^{4} + \\frac{e}{120} \\left(x - 1\\right)^{5} + \\frac{e}{720} \\left(x - 1\\right)^{6} + \\frac{e}{5040} \\left(x - 1\\right)^{7} + \\frac{e}{40320} \\left(x - 1\\right)^{8} + \\frac{e}{362880} \\left(x - 1\\right)^{9} + \\mathcal{O}\\left(\\left(x - 1\\right)^{10}; x\\rightarrow1\\right)$$"
      ],
      "text/plain": [
       "                         2            3            4            5            6\n",
       "                ℯ⋅(x - 1)    ℯ⋅(x - 1)    ℯ⋅(x - 1)    ℯ⋅(x - 1)    ℯ⋅(x - 1) \n",
       "ℯ + ℯ⋅(x - 1) + ────────── + ────────── + ────────── + ────────── + ──────────\n",
       "                    2            6            24          120          720    \n",
       "\n",
       "            7            8            9                      \n",
       "   ℯ⋅(x - 1)    ℯ⋅(x - 1)    ℯ⋅(x - 1)     ⎛       10       ⎞\n",
       " + ────────── + ────────── + ────────── + O⎝(x - 1)  ; x → 1⎠\n",
       "      5040        40320        362880                        "
      ]
     },
     "execution_count": 73,
     "metadata": {},
     "output_type": "execute_result"
    }
   ],
   "source": [
    "series(exp(x), x, 1, 10)"
   ]
  },
  {
   "cell_type": "markdown",
   "metadata": {},
   "source": [
    "The series expansion includes the order of the approximation, which is very useful for keeping track of the order of validity when we do calculations with series expansions of different order:"
   ]
  },
  {
   "cell_type": "code",
   "execution_count": 74,
   "metadata": {},
   "outputs": [
    {
     "data": {
      "image/png": "[encoded data removed]",
      "text/latex": [
       "$$1 - \\frac{x^{2}}{2} + \\frac{x^{4}}{24} + \\mathcal{O}\\left(x^{5}\\right)$$"
      ],
      "text/plain": [
       "     2    4        \n",
       "    x    x     ⎛ 5⎞\n",
       "1 - ── + ── + O⎝x ⎠\n",
       "    2    24        "
      ]
     },
     "execution_count": 74,
     "metadata": {},
     "output_type": "execute_result"
    }
   ],
   "source": [
    "s1 = cos(x).series(x, 0, 5)\n",
    "s1"
   ]
  },
  {
   "cell_type": "code",
   "execution_count": 75,
   "metadata": {},
   "outputs": [
    {
     "data": {
      "image/png": "[encoded data removed]",
      "text/latex": [
       "$$x + \\mathcal{O}\\left(x^{2}\\right)$$"
      ],
      "text/plain": [
       "     ⎛ 2⎞\n",
       "x + O⎝x ⎠"
      ]
     },
     "execution_count": 75,
     "metadata": {},
     "output_type": "execute_result"
    }
   ],
   "source": [
    "s2 = sin(x).series(x, 0, 2)\n",
    "s2"
   ]
  },
  {
   "cell_type": "code",
   "execution_count": 76,
   "metadata": {},
   "outputs": [
    {
     "data": {
      "image/png": "[encoded data removed]",
      "text/latex": [
       "$$x + \\mathcal{O}\\left(x^{2}\\right)$$"
      ],
      "text/plain": [
       "     ⎛ 2⎞\n",
       "x + O⎝x ⎠"
      ]
     },
     "execution_count": 76,
     "metadata": {},
     "output_type": "execute_result"
    }
   ],
   "source": [
    "expand(s1 * s2)"
   ]
  },
  {
   "cell_type": "markdown",
   "metadata": {},
   "source": [
    "If we want to get rid of the order information we can use the `removeO` method:"
   ]
  },
  {
   "cell_type": "code",
   "execution_count": 77,
   "metadata": {},
   "outputs": [
    {
     "data": {
      "image/png": "[encoded data removed]",
      "text/latex": [
       "$$\\frac{x^{5}}{24} - \\frac{x^{3}}{2} + x$$"
      ],
      "text/plain": [
       " 5    3    \n",
       "x    x     \n",
       "── - ── + x\n",
       "24   2     "
      ]
     },
     "execution_count": 77,
     "metadata": {},
     "output_type": "execute_result"
    }
   ],
   "source": [
    "expand(s1.removeO() * s2.removeO())"
   ]
  },
  {
   "cell_type": "markdown",
   "metadata": {},
   "source": [
    "But note that this is not the correct expansion of $\\cos(x)\\sin(x)$ to $5$th order:"
   ]
  },
  {
   "cell_type": "code",
   "execution_count": 78,
   "metadata": {},
   "outputs": [
    {
     "data": {
      "image/png": "[encoded data removed]",
      "text/latex": [
       "$$x - \\frac{2 x^{3}}{3} + \\frac{2 x^{5}}{15} + \\mathcal{O}\\left(x^{6}\\right)$$"
      ],
      "text/plain": [
       "       3      5        \n",
       "    2⋅x    2⋅x     ⎛ 6⎞\n",
       "x - ──── + ──── + O⎝x ⎠\n",
       "     3      15         "
      ]
     },
     "execution_count": 78,
     "metadata": {},
     "output_type": "execute_result"
    }
   ],
   "source": [
    "(cos(x)*sin(x)).series(x, 0, 6)"
   ]
  },
  {
   "cell_type": "markdown",
   "metadata": {},
   "source": [
    "## Linear algebra"
   ]
  },
  {
   "cell_type": "markdown",
   "metadata": {},
   "source": [
    "### Matrices"
   ]
  },
  {
   "cell_type": "markdown",
   "metadata": {},
   "source": [
    "Matrices are defined using the `Matrix` class:"
   ]
  },
  {
   "cell_type": "code",
   "execution_count": 79,
   "metadata": {
    "collapsed": true
   },
   "outputs": [],
   "source": [
    "m11, m12, m21, m22 = symbols(\"m11, m12, m21, m22\")\n",
    "b1, b2 = symbols(\"b1, b2\")"
   ]
  },
  {
   "cell_type": "code",
   "execution_count": 80,
   "metadata": {},
   "outputs": [
    {
     "data": {
      "image/png": "[encoded data removed]",
      "text/latex": [
       "$$\\left[\\begin{matrix}m_{11} & m_{12}\\\\m_{21} & m_{22}\\end{matrix}\\right]$$"
      ],
      "text/plain": [
       "⎡m₁₁  m₁₂⎤\n",
       "⎢        ⎥\n",
       "⎣m₂₁  m₂₂⎦"
      ]
     },
     "execution_count": 80,
     "metadata": {},
     "output_type": "execute_result"
    }
   ],
   "source": [
    "A = Matrix([[m11, m12],[m21, m22]])\n",
    "A"
   ]
  },
  {
   "cell_type": "code",
   "execution_count": 81,
   "metadata": {},
   "outputs": [
    {
     "data": {
      "image/png": "[encoded data removed]",
      "text/latex": [
       "$$\\left[\\begin{matrix}b_{1}\\\\b_{2}\\end{matrix}\\right]$$"
      ],
      "text/plain": [
       "⎡b₁⎤\n",
       "⎢  ⎥\n",
       "⎣b₂⎦"
      ]
     },
     "execution_count": 81,
     "metadata": {},
     "output_type": "execute_result"
    }
   ],
   "source": [
    "b = Matrix([[b1], [b2]])\n",
    "b"
   ]
  },
  {
   "cell_type": "markdown",
   "metadata": {},
   "source": [
    "With `Matrix` class instances we can do the usual matrix algebra operations:"
   ]
  },
  {
   "cell_type": "code",
   "execution_count": 82,
   "metadata": {},
   "outputs": [
    {
     "data": {
      "image/png": "[encoded data removed]",
      "text/latex": [
       "$$\\left[\\begin{matrix}m_{11}^{2} + m_{12} m_{21} & m_{11} m_{12} + m_{12} m_{22}\\\\m_{11} m_{21} + m_{21} m_{22} & m_{12} m_{21} + m_{22}^{2}\\end{matrix}\\right]$$"
      ],
      "text/plain": [
       "⎡    2                               ⎤\n",
       "⎢ m₁₁  + m₁₂⋅m₂₁    m₁₁⋅m₁₂ + m₁₂⋅m₂₂⎥\n",
       "⎢                                    ⎥\n",
       "⎢                                 2  ⎥\n",
       "⎣m₁₁⋅m₂₁ + m₂₁⋅m₂₂   m₁₂⋅m₂₁ + m₂₂   ⎦"
      ]
     },
     "execution_count": 82,
     "metadata": {},
     "output_type": "execute_result"
    }
   ],
   "source": [
    "A**2"
   ]
  },
  {
   "cell_type": "code",
   "execution_count": 83,
   "metadata": {},
   "outputs": [
    {
     "data": {
      "image/png": "[encoded data removed]",
      "text/latex": [
       "$$\\left[\\begin{matrix}b_{1} m_{11} + b_{2} m_{12}\\\\b_{1} m_{21} + b_{2} m_{22}\\end{matrix}\\right]$$"
      ],
      "text/plain": [
       "⎡b₁⋅m₁₁ + b₂⋅m₁₂⎤\n",
       "⎢               ⎥\n",
       "⎣b₁⋅m₂₁ + b₂⋅m₂₂⎦"
      ]
     },
     "execution_count": 83,
     "metadata": {},
     "output_type": "execute_result"
    }
   ],
   "source": [
    "A * b"
   ]
  },
  {
   "cell_type": "markdown",
   "metadata": {},
   "source": [
    "And calculate determinants and inverses, and the like:"
   ]
  },
  {
   "cell_type": "code",
   "execution_count": 84,
   "metadata": {},
   "outputs": [
    {
     "data": {
      "image/png": "[encoded data removed]",
      "text/latex": [
       "$$m_{11} m_{22} - m_{12} m_{21}$$"
      ],
      "text/plain": [
       "m₁₁⋅m₂₂ - m₁₂⋅m₂₁"
      ]
     },
     "execution_count": 84,
     "metadata": {},
     "output_type": "execute_result"
    }
   ],
   "source": [
    "A.det()"
   ]
  },
  {
   "cell_type": "code",
   "execution_count": 85,
   "metadata": {},
   "outputs": [
    {
     "data": {
      "image/png": "[encoded data removed]",
      "text/latex": [
       "$$\\left[\\begin{matrix}\\frac{1}{m_{11}} + \\frac{m_{12} m_{21}}{m_{11}^{2} \\left(m_{22} - \\frac{m_{12} m_{21}}{m_{11}}\\right)} & - \\frac{m_{12}}{m_{11} \\left(m_{22} - \\frac{m_{12} m_{21}}{m_{11}}\\right)}\\\\- \\frac{m_{21}}{m_{11} \\left(m_{22} - \\frac{m_{12} m_{21}}{m_{11}}\\right)} & \\frac{1}{m_{22} - \\frac{m_{12} m_{21}}{m_{11}}}\\end{matrix}\\right]$$"
      ],
      "text/plain": [
       "⎡ 1          m₁₂⋅m₂₁                -m₁₂        ⎤\n",
       "⎢─── + ────────────────────  ───────────────────⎥\n",
       "⎢m₁₁      2 ⎛      m₁₂⋅m₂₁⎞      ⎛      m₁₂⋅m₂₁⎞⎥\n",
       "⎢      m₁₁ ⋅⎜m₂₂ - ───────⎟  m₁₁⋅⎜m₂₂ - ───────⎟⎥\n",
       "⎢           ⎝        m₁₁  ⎠      ⎝        m₁₁  ⎠⎥\n",
       "⎢                                               ⎥\n",
       "⎢          -m₂₁                       1         ⎥\n",
       "⎢   ───────────────────         ─────────────   ⎥\n",
       "⎢       ⎛      m₁₂⋅m₂₁⎞               m₁₂⋅m₂₁   ⎥\n",
       "⎢   m₁₁⋅⎜m₂₂ - ───────⎟         m₂₂ - ───────   ⎥\n",
       "⎣       ⎝        m₁₁  ⎠                 m₁₁     ⎦"
      ]
     },
     "execution_count": 85,
     "metadata": {},
     "output_type": "execute_result"
    }
   ],
   "source": [
    "A.inv()"
   ]
  },
  {
   "cell_type": "markdown",
   "metadata": {},
   "source": [
    "## Solving equations"
   ]
  },
  {
   "cell_type": "markdown",
   "metadata": {},
   "source": [
    "For solving equations and systems of equations we can use the `solve` function:"
   ]
  },
  {
   "cell_type": "code",
   "execution_count": 86,
   "metadata": {},
   "outputs": [
    {
     "data": {
      "image/png": "[encoded data removed]",
      "text/latex": [
       "$$\\left [ -1, \\quad 1\\right ]$$"
      ],
      "text/plain": [
       "[-1, 1]"
      ]
     },
     "execution_count": 86,
     "metadata": {},
     "output_type": "execute_result"
    }
   ],
   "source": [
    "solve(x**2 - 1, x)"
   ]
  },
  {
   "cell_type": "code",
   "execution_count": 87,
   "metadata": {},
   "outputs": [
    {
     "data": {
      "image/png": "[encoded data removed]",
      "text/latex": [
       "$$\\left [ - i \\sqrt{- \\frac{1}{2} + \\frac{\\sqrt{5}}{2}}, \\quad i \\sqrt{- \\frac{1}{2} + \\frac{\\sqrt{5}}{2}}, \\quad - \\sqrt{\\frac{1}{2} + \\frac{\\sqrt{5}}{2}}, \\quad \\sqrt{\\frac{1}{2} + \\frac{\\sqrt{5}}{2}}\\right ]$$"
      ],
      "text/plain": [
       "⎡       __________        __________       ________      ________⎤\n",
       "⎢      ╱   1   √5        ╱   1   √5       ╱ 1   √5      ╱ 1   √5 ⎥\n",
       "⎢-ⅈ⋅  ╱  - ─ + ── , ⅈ⋅  ╱  - ─ + ── , -  ╱  ─ + ── ,   ╱  ─ + ── ⎥\n",
       "⎣   ╲╱     2   2      ╲╱     2   2     ╲╱   2   2    ╲╱   2   2  ⎦"
      ]
     },
     "execution_count": 87,
     "metadata": {},
     "output_type": "execute_result"
    }
   ],
   "source": [
    "solve(x**4 - x**2 - 1, x)"
   ]
  },
  {
   "cell_type": "markdown",
   "metadata": {},
   "source": [
    "System of equations:"
   ]
  },
  {
   "cell_type": "code",
   "execution_count": 88,
   "metadata": {},
   "outputs": [
    {
     "data": {
      "image/png": "[encoded data removed]",
      "text/latex": [
       "$$\\left \\{ x : 1, \\quad y : 0\\right \\}$$"
      ],
      "text/plain": [
       "{x: 1, y: 0}"
      ]
     },
     "execution_count": 88,
     "metadata": {},
     "output_type": "execute_result"
    }
   ],
   "source": [
    "solve([x + y - 1, x - y - 1], [x,y])"
   ]
  },
  {
   "cell_type": "markdown",
   "metadata": {},
   "source": [
    "In terms of other symbolic expressions:"
   ]
  },
  {
   "cell_type": "code",
   "execution_count": 89,
   "metadata": {},
   "outputs": [
    {
     "data": {
      "image/png": "[encoded data removed]",
      "text/latex": [
       "$$\\left \\{ x : \\frac{a}{2} + \\frac{c}{2}, \\quad y : \\frac{a}{2} - \\frac{c}{2}\\right \\}$$"
      ],
      "text/plain": [
       "⎧   a   c     a   c⎫\n",
       "⎨x: ─ + ─, y: ─ - ─⎬\n",
       "⎩   2   2     2   2⎭"
      ]
     },
     "execution_count": 89,
     "metadata": {},
     "output_type": "execute_result"
    }
   ],
   "source": [
    "solve([x + y - a, x - y - c], [x,y])"
   ]
  },
  {
   "cell_type": "markdown",
   "metadata": {},
   "source": [
    "## Further reading"
   ]
  },
  {
   "cell_type": "markdown",
   "metadata": {},
   "source": [
    "#### Sympy\n",
    "* http://sympy.org/en/index.html - The SymPy projects web page.\n",
    "* https://github.com/sympy/sympy - The source code of SymPy.\n",
    "* http://live.sympy.org - Online version of SymPy for testing and demonstrations."
   ]
  }
 ],
 "metadata": {
  "kernelspec": {
   "display_name": "Python 3",
   "language": "python",
   "name": "python3"
  },
  "language_info": {
   "codemirror_mode": {
    "name": "ipython",
    "version": 3
   },
   "file_extension": ".py",
   "mimetype": "text/x-python",
   "name": "python",
   "nbconvert_exporter": "python",
   "pygments_lexer": "ipython3",
   "version": "3.5.2"
  }
 },
 "nbformat": 4,
 "nbformat_minor": 2
}
